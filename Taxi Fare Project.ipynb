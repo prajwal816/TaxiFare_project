{
 "cells": [
  {
   "cell_type": "code",
   "execution_count": 81,
   "id": "0f5b37e2",
   "metadata": {},
   "outputs": [],
   "source": [
    "\n",
    "import numpy as np\n",
    "import pandas as pd\n",
    "import seaborn as sns\n",
    "from sklearn import metrics\n",
    "from sklearn.metrics import mean_squared_error\n",
    "from sklearn.model_selection import train_test_split, cross_val_score \n",
    "from sklearn.linear_model import LinearRegression \n",
    "from sklearn.ensemble import RandomForestRegressor\n",
    "import matplotlib.pyplot as plt   #Data visualisation libraries \n",
    "%matplotlib inline\n",
    "import warnings\n",
    "warnings.filterwarnings('ignore')\n",
    "\n",
    "data = pd.read_csv( \"TaxiFare.csv\")"
   ]
  },
  {
   "cell_type": "code",
   "execution_count": 82,
   "id": "03c4f8d5",
   "metadata": {},
   "outputs": [],
   "source": [
    "# Creation of training set , development set, Testing set\n",
    "train_set = data\n",
    "test_set = data\n",
    "dev_set = data.sample(n = 10000)# 10000 random data from same distribution"
   ]
  },
  {
   "cell_type": "markdown",
   "id": "b00660d4",
   "metadata": {},
   "source": [
    "# Shape, data type, data sample and descriptive statistics of Train Set"
   ]
  },
  {
   "cell_type": "markdown",
   "id": "75260575",
   "metadata": {},
   "source": [
    "## Shape"
   ]
  },
  {
   "cell_type": "code",
   "execution_count": 83,
   "id": "0085b645",
   "metadata": {},
   "outputs": [
    {
     "data": {
      "text/plain": [
       "(50000, 8)"
      ]
     },
     "execution_count": 83,
     "metadata": {},
     "output_type": "execute_result"
    }
   ],
   "source": [
    "train_set.shape"
   ]
  },
  {
   "cell_type": "markdown",
   "id": "9c3d2c74",
   "metadata": {},
   "source": [
    "## Data type"
   ]
  },
  {
   "cell_type": "code",
   "execution_count": 84,
   "id": "bee33b3f",
   "metadata": {},
   "outputs": [
    {
     "data": {
      "text/plain": [
       "unique_id                object\n",
       "amount                  float64\n",
       "date_time_of_pickup      object\n",
       "longitude_of_pickup     float64\n",
       "latitude_of_pickup      float64\n",
       "longitude_of_dropoff    float64\n",
       "latitude_of_dropoff     float64\n",
       "no_of_passenger           int64\n",
       "dtype: object"
      ]
     },
     "execution_count": 84,
     "metadata": {},
     "output_type": "execute_result"
    }
   ],
   "source": [
    "train_set.dtypes"
   ]
  },
  {
   "cell_type": "markdown",
   "id": "fb331fad",
   "metadata": {},
   "source": [
    "## Data Sample"
   ]
  },
  {
   "cell_type": "code",
   "execution_count": 5,
   "id": "d8d27daa",
   "metadata": {},
   "outputs": [
    {
     "data": {
      "text/html": [
       "<div>\n",
       "<style scoped>\n",
       "    .dataframe tbody tr th:only-of-type {\n",
       "        vertical-align: middle;\n",
       "    }\n",
       "\n",
       "    .dataframe tbody tr th {\n",
       "        vertical-align: top;\n",
       "    }\n",
       "\n",
       "    .dataframe thead th {\n",
       "        text-align: right;\n",
       "    }\n",
       "</style>\n",
       "<table border=\"1\" class=\"dataframe\">\n",
       "  <thead>\n",
       "    <tr style=\"text-align: right;\">\n",
       "      <th></th>\n",
       "      <th>unique_id</th>\n",
       "      <th>amount</th>\n",
       "      <th>date_time_of_pickup</th>\n",
       "      <th>longitude_of_pickup</th>\n",
       "      <th>latitude_of_pickup</th>\n",
       "      <th>longitude_of_dropoff</th>\n",
       "      <th>latitude_of_dropoff</th>\n",
       "      <th>no_of_passenger</th>\n",
       "    </tr>\n",
       "  </thead>\n",
       "  <tbody>\n",
       "    <tr>\n",
       "      <th>0</th>\n",
       "      <td>26:21.0</td>\n",
       "      <td>4.5</td>\n",
       "      <td>2009-06-15 17:26:21 UTC</td>\n",
       "      <td>-73.844311</td>\n",
       "      <td>40.721319</td>\n",
       "      <td>-73.841610</td>\n",
       "      <td>40.712278</td>\n",
       "      <td>1</td>\n",
       "    </tr>\n",
       "    <tr>\n",
       "      <th>1</th>\n",
       "      <td>52:16.0</td>\n",
       "      <td>16.9</td>\n",
       "      <td>2010-01-05 16:52:16 UTC</td>\n",
       "      <td>-74.016048</td>\n",
       "      <td>40.711303</td>\n",
       "      <td>-73.979268</td>\n",
       "      <td>40.782004</td>\n",
       "      <td>1</td>\n",
       "    </tr>\n",
       "    <tr>\n",
       "      <th>2</th>\n",
       "      <td>35:00.0</td>\n",
       "      <td>5.7</td>\n",
       "      <td>2011-08-18 00:35:00 UTC</td>\n",
       "      <td>-73.982738</td>\n",
       "      <td>40.761270</td>\n",
       "      <td>-73.991242</td>\n",
       "      <td>40.750562</td>\n",
       "      <td>2</td>\n",
       "    </tr>\n",
       "    <tr>\n",
       "      <th>3</th>\n",
       "      <td>30:42.0</td>\n",
       "      <td>7.7</td>\n",
       "      <td>2012-04-21 04:30:42 UTC</td>\n",
       "      <td>-73.987130</td>\n",
       "      <td>40.733143</td>\n",
       "      <td>-73.991567</td>\n",
       "      <td>40.758092</td>\n",
       "      <td>1</td>\n",
       "    </tr>\n",
       "    <tr>\n",
       "      <th>4</th>\n",
       "      <td>51:00.0</td>\n",
       "      <td>5.3</td>\n",
       "      <td>2010-03-09 07:51:00 UTC</td>\n",
       "      <td>-73.968095</td>\n",
       "      <td>40.768008</td>\n",
       "      <td>-73.956655</td>\n",
       "      <td>40.783762</td>\n",
       "      <td>1</td>\n",
       "    </tr>\n",
       "  </tbody>\n",
       "</table>\n",
       "</div>"
      ],
      "text/plain": [
       "  unique_id  amount      date_time_of_pickup  longitude_of_pickup  \\\n",
       "0   26:21.0     4.5  2009-06-15 17:26:21 UTC           -73.844311   \n",
       "1   52:16.0    16.9  2010-01-05 16:52:16 UTC           -74.016048   \n",
       "2   35:00.0     5.7  2011-08-18 00:35:00 UTC           -73.982738   \n",
       "3   30:42.0     7.7  2012-04-21 04:30:42 UTC           -73.987130   \n",
       "4   51:00.0     5.3  2010-03-09 07:51:00 UTC           -73.968095   \n",
       "\n",
       "   latitude_of_pickup  longitude_of_dropoff  latitude_of_dropoff  \\\n",
       "0           40.721319            -73.841610            40.712278   \n",
       "1           40.711303            -73.979268            40.782004   \n",
       "2           40.761270            -73.991242            40.750562   \n",
       "3           40.733143            -73.991567            40.758092   \n",
       "4           40.768008            -73.956655            40.783762   \n",
       "\n",
       "   no_of_passenger  \n",
       "0                1  \n",
       "1                1  \n",
       "2                2  \n",
       "3                1  \n",
       "4                1  "
      ]
     },
     "execution_count": 5,
     "metadata": {},
     "output_type": "execute_result"
    }
   ],
   "source": [
    "train_set.head()"
   ]
  },
  {
   "cell_type": "markdown",
   "id": "53d0c257",
   "metadata": {},
   "source": [
    "## Descriptive statistics"
   ]
  },
  {
   "cell_type": "code",
   "execution_count": 6,
   "id": "035233cf",
   "metadata": {},
   "outputs": [
    {
     "data": {
      "text/html": [
       "<div>\n",
       "<style scoped>\n",
       "    .dataframe tbody tr th:only-of-type {\n",
       "        vertical-align: middle;\n",
       "    }\n",
       "\n",
       "    .dataframe tbody tr th {\n",
       "        vertical-align: top;\n",
       "    }\n",
       "\n",
       "    .dataframe thead th {\n",
       "        text-align: right;\n",
       "    }\n",
       "</style>\n",
       "<table border=\"1\" class=\"dataframe\">\n",
       "  <thead>\n",
       "    <tr style=\"text-align: right;\">\n",
       "      <th></th>\n",
       "      <th>amount</th>\n",
       "      <th>longitude_of_pickup</th>\n",
       "      <th>latitude_of_pickup</th>\n",
       "      <th>longitude_of_dropoff</th>\n",
       "      <th>latitude_of_dropoff</th>\n",
       "      <th>no_of_passenger</th>\n",
       "    </tr>\n",
       "  </thead>\n",
       "  <tbody>\n",
       "    <tr>\n",
       "      <th>count</th>\n",
       "      <td>50000.000000</td>\n",
       "      <td>50000.000000</td>\n",
       "      <td>50000.000000</td>\n",
       "      <td>50000.000000</td>\n",
       "      <td>50000.000000</td>\n",
       "      <td>50000.000000</td>\n",
       "    </tr>\n",
       "    <tr>\n",
       "      <th>mean</th>\n",
       "      <td>11.364171</td>\n",
       "      <td>-72.509756</td>\n",
       "      <td>39.933759</td>\n",
       "      <td>-72.504616</td>\n",
       "      <td>39.926251</td>\n",
       "      <td>1.667840</td>\n",
       "    </tr>\n",
       "    <tr>\n",
       "      <th>std</th>\n",
       "      <td>9.685557</td>\n",
       "      <td>10.393860</td>\n",
       "      <td>6.224857</td>\n",
       "      <td>10.407570</td>\n",
       "      <td>6.014737</td>\n",
       "      <td>1.289195</td>\n",
       "    </tr>\n",
       "    <tr>\n",
       "      <th>min</th>\n",
       "      <td>-5.000000</td>\n",
       "      <td>-75.423848</td>\n",
       "      <td>-74.006893</td>\n",
       "      <td>-84.654241</td>\n",
       "      <td>-74.006377</td>\n",
       "      <td>0.000000</td>\n",
       "    </tr>\n",
       "    <tr>\n",
       "      <th>25%</th>\n",
       "      <td>6.000000</td>\n",
       "      <td>-73.992062</td>\n",
       "      <td>40.734880</td>\n",
       "      <td>-73.991152</td>\n",
       "      <td>40.734372</td>\n",
       "      <td>1.000000</td>\n",
       "    </tr>\n",
       "    <tr>\n",
       "      <th>50%</th>\n",
       "      <td>8.500000</td>\n",
       "      <td>-73.981840</td>\n",
       "      <td>40.752678</td>\n",
       "      <td>-73.980082</td>\n",
       "      <td>40.753372</td>\n",
       "      <td>1.000000</td>\n",
       "    </tr>\n",
       "    <tr>\n",
       "      <th>75%</th>\n",
       "      <td>12.500000</td>\n",
       "      <td>-73.967148</td>\n",
       "      <td>40.767360</td>\n",
       "      <td>-73.963584</td>\n",
       "      <td>40.768167</td>\n",
       "      <td>2.000000</td>\n",
       "    </tr>\n",
       "    <tr>\n",
       "      <th>max</th>\n",
       "      <td>200.000000</td>\n",
       "      <td>40.783472</td>\n",
       "      <td>401.083332</td>\n",
       "      <td>40.851027</td>\n",
       "      <td>43.415190</td>\n",
       "      <td>6.000000</td>\n",
       "    </tr>\n",
       "  </tbody>\n",
       "</table>\n",
       "</div>"
      ],
      "text/plain": [
       "             amount  longitude_of_pickup  latitude_of_pickup  \\\n",
       "count  50000.000000         50000.000000        50000.000000   \n",
       "mean      11.364171           -72.509756           39.933759   \n",
       "std        9.685557            10.393860            6.224857   \n",
       "min       -5.000000           -75.423848          -74.006893   \n",
       "25%        6.000000           -73.992062           40.734880   \n",
       "50%        8.500000           -73.981840           40.752678   \n",
       "75%       12.500000           -73.967148           40.767360   \n",
       "max      200.000000            40.783472          401.083332   \n",
       "\n",
       "       longitude_of_dropoff  latitude_of_dropoff  no_of_passenger  \n",
       "count          50000.000000         50000.000000     50000.000000  \n",
       "mean             -72.504616            39.926251         1.667840  \n",
       "std               10.407570             6.014737         1.289195  \n",
       "min              -84.654241           -74.006377         0.000000  \n",
       "25%              -73.991152            40.734372         1.000000  \n",
       "50%              -73.980082            40.753372         1.000000  \n",
       "75%              -73.963584            40.768167         2.000000  \n",
       "max               40.851027            43.415190         6.000000  "
      ]
     },
     "execution_count": 6,
     "metadata": {},
     "output_type": "execute_result"
    }
   ],
   "source": [
    "train_set.describe()"
   ]
  },
  {
   "cell_type": "markdown",
   "id": "04a160e2",
   "metadata": {},
   "source": [
    "# Shape, data type, data sample and descriptive statistics of Development Set\n",
    "\n",
    "## Shape"
   ]
  },
  {
   "cell_type": "code",
   "execution_count": 7,
   "id": "903b87ce",
   "metadata": {},
   "outputs": [
    {
     "data": {
      "text/plain": [
       "(10000, 8)"
      ]
     },
     "execution_count": 7,
     "metadata": {},
     "output_type": "execute_result"
    }
   ],
   "source": [
    "dev_set.shape"
   ]
  },
  {
   "cell_type": "markdown",
   "id": "e7a2dc98",
   "metadata": {},
   "source": [
    "## Datatype"
   ]
  },
  {
   "cell_type": "code",
   "execution_count": 8,
   "id": "dc36e487",
   "metadata": {},
   "outputs": [
    {
     "data": {
      "text/plain": [
       "unique_id                object\n",
       "amount                  float64\n",
       "date_time_of_pickup      object\n",
       "longitude_of_pickup     float64\n",
       "latitude_of_pickup      float64\n",
       "longitude_of_dropoff    float64\n",
       "latitude_of_dropoff     float64\n",
       "no_of_passenger           int64\n",
       "dtype: object"
      ]
     },
     "execution_count": 8,
     "metadata": {},
     "output_type": "execute_result"
    }
   ],
   "source": [
    "dev_set.dtypes"
   ]
  },
  {
   "cell_type": "markdown",
   "id": "acc5a2f1",
   "metadata": {},
   "source": [
    "## Data Sample"
   ]
  },
  {
   "cell_type": "code",
   "execution_count": 9,
   "id": "8f2ff340",
   "metadata": {},
   "outputs": [
    {
     "data": {
      "text/html": [
       "<div>\n",
       "<style scoped>\n",
       "    .dataframe tbody tr th:only-of-type {\n",
       "        vertical-align: middle;\n",
       "    }\n",
       "\n",
       "    .dataframe tbody tr th {\n",
       "        vertical-align: top;\n",
       "    }\n",
       "\n",
       "    .dataframe thead th {\n",
       "        text-align: right;\n",
       "    }\n",
       "</style>\n",
       "<table border=\"1\" class=\"dataframe\">\n",
       "  <thead>\n",
       "    <tr style=\"text-align: right;\">\n",
       "      <th></th>\n",
       "      <th>unique_id</th>\n",
       "      <th>amount</th>\n",
       "      <th>date_time_of_pickup</th>\n",
       "      <th>longitude_of_pickup</th>\n",
       "      <th>latitude_of_pickup</th>\n",
       "      <th>longitude_of_dropoff</th>\n",
       "      <th>latitude_of_dropoff</th>\n",
       "      <th>no_of_passenger</th>\n",
       "    </tr>\n",
       "  </thead>\n",
       "  <tbody>\n",
       "    <tr>\n",
       "      <th>31419</th>\n",
       "      <td>54:00.0</td>\n",
       "      <td>4.5</td>\n",
       "      <td>2011-08-05 22:54:00 UTC</td>\n",
       "      <td>-73.966232</td>\n",
       "      <td>40.756073</td>\n",
       "      <td>-73.974018</td>\n",
       "      <td>40.751165</td>\n",
       "      <td>1</td>\n",
       "    </tr>\n",
       "    <tr>\n",
       "      <th>37658</th>\n",
       "      <td>48:18.0</td>\n",
       "      <td>4.5</td>\n",
       "      <td>2013-01-03 06:48:18 UTC</td>\n",
       "      <td>-73.976389</td>\n",
       "      <td>40.755492</td>\n",
       "      <td>-73.985983</td>\n",
       "      <td>40.757071</td>\n",
       "      <td>1</td>\n",
       "    </tr>\n",
       "    <tr>\n",
       "      <th>24950</th>\n",
       "      <td>38:00.0</td>\n",
       "      <td>5.0</td>\n",
       "      <td>2012-09-26 11:38:00 UTC</td>\n",
       "      <td>-73.957280</td>\n",
       "      <td>40.800222</td>\n",
       "      <td>-73.949778</td>\n",
       "      <td>40.793720</td>\n",
       "      <td>1</td>\n",
       "    </tr>\n",
       "    <tr>\n",
       "      <th>17068</th>\n",
       "      <td>12:00.0</td>\n",
       "      <td>10.1</td>\n",
       "      <td>2009-04-25 01:12:00 UTC</td>\n",
       "      <td>-73.994217</td>\n",
       "      <td>40.726452</td>\n",
       "      <td>-73.985068</td>\n",
       "      <td>40.760848</td>\n",
       "      <td>2</td>\n",
       "    </tr>\n",
       "    <tr>\n",
       "      <th>5392</th>\n",
       "      <td>54:00.0</td>\n",
       "      <td>4.5</td>\n",
       "      <td>2011-11-05 12:54:00 UTC</td>\n",
       "      <td>-73.979552</td>\n",
       "      <td>40.766448</td>\n",
       "      <td>-73.985712</td>\n",
       "      <td>40.761210</td>\n",
       "      <td>5</td>\n",
       "    </tr>\n",
       "  </tbody>\n",
       "</table>\n",
       "</div>"
      ],
      "text/plain": [
       "      unique_id  amount      date_time_of_pickup  longitude_of_pickup  \\\n",
       "31419   54:00.0     4.5  2011-08-05 22:54:00 UTC           -73.966232   \n",
       "37658   48:18.0     4.5  2013-01-03 06:48:18 UTC           -73.976389   \n",
       "24950   38:00.0     5.0  2012-09-26 11:38:00 UTC           -73.957280   \n",
       "17068   12:00.0    10.1  2009-04-25 01:12:00 UTC           -73.994217   \n",
       "5392    54:00.0     4.5  2011-11-05 12:54:00 UTC           -73.979552   \n",
       "\n",
       "       latitude_of_pickup  longitude_of_dropoff  latitude_of_dropoff  \\\n",
       "31419           40.756073            -73.974018            40.751165   \n",
       "37658           40.755492            -73.985983            40.757071   \n",
       "24950           40.800222            -73.949778            40.793720   \n",
       "17068           40.726452            -73.985068            40.760848   \n",
       "5392            40.766448            -73.985712            40.761210   \n",
       "\n",
       "       no_of_passenger  \n",
       "31419                1  \n",
       "37658                1  \n",
       "24950                1  \n",
       "17068                2  \n",
       "5392                 5  "
      ]
     },
     "execution_count": 9,
     "metadata": {},
     "output_type": "execute_result"
    }
   ],
   "source": [
    "dev_set.head()"
   ]
  },
  {
   "cell_type": "markdown",
   "id": "4d3d0850",
   "metadata": {},
   "source": [
    "## Descriptive statistics"
   ]
  },
  {
   "cell_type": "code",
   "execution_count": 10,
   "id": "2c428bbd",
   "metadata": {},
   "outputs": [
    {
     "data": {
      "text/html": [
       "<div>\n",
       "<style scoped>\n",
       "    .dataframe tbody tr th:only-of-type {\n",
       "        vertical-align: middle;\n",
       "    }\n",
       "\n",
       "    .dataframe tbody tr th {\n",
       "        vertical-align: top;\n",
       "    }\n",
       "\n",
       "    .dataframe thead th {\n",
       "        text-align: right;\n",
       "    }\n",
       "</style>\n",
       "<table border=\"1\" class=\"dataframe\">\n",
       "  <thead>\n",
       "    <tr style=\"text-align: right;\">\n",
       "      <th></th>\n",
       "      <th>amount</th>\n",
       "      <th>longitude_of_pickup</th>\n",
       "      <th>latitude_of_pickup</th>\n",
       "      <th>longitude_of_dropoff</th>\n",
       "      <th>latitude_of_dropoff</th>\n",
       "      <th>no_of_passenger</th>\n",
       "    </tr>\n",
       "  </thead>\n",
       "  <tbody>\n",
       "    <tr>\n",
       "      <th>count</th>\n",
       "      <td>10000.000000</td>\n",
       "      <td>10000.000000</td>\n",
       "      <td>10000.000000</td>\n",
       "      <td>10000.000000</td>\n",
       "      <td>10000.000000</td>\n",
       "      <td>10000.000000</td>\n",
       "    </tr>\n",
       "    <tr>\n",
       "      <th>mean</th>\n",
       "      <td>11.265919</td>\n",
       "      <td>-72.613450</td>\n",
       "      <td>39.983824</td>\n",
       "      <td>-72.583674</td>\n",
       "      <td>39.963174</td>\n",
       "      <td>1.696800</td>\n",
       "    </tr>\n",
       "    <tr>\n",
       "      <th>std</th>\n",
       "      <td>9.580333</td>\n",
       "      <td>10.040491</td>\n",
       "      <td>5.836809</td>\n",
       "      <td>10.140941</td>\n",
       "      <td>5.906905</td>\n",
       "      <td>1.318121</td>\n",
       "    </tr>\n",
       "    <tr>\n",
       "      <th>min</th>\n",
       "      <td>-2.500000</td>\n",
       "      <td>-75.336082</td>\n",
       "      <td>-73.986968</td>\n",
       "      <td>-84.654241</td>\n",
       "      <td>-74.001000</td>\n",
       "      <td>0.000000</td>\n",
       "    </tr>\n",
       "    <tr>\n",
       "      <th>25%</th>\n",
       "      <td>6.000000</td>\n",
       "      <td>-73.992214</td>\n",
       "      <td>40.734950</td>\n",
       "      <td>-73.991193</td>\n",
       "      <td>40.734105</td>\n",
       "      <td>1.000000</td>\n",
       "    </tr>\n",
       "    <tr>\n",
       "      <th>50%</th>\n",
       "      <td>8.500000</td>\n",
       "      <td>-73.982013</td>\n",
       "      <td>40.752739</td>\n",
       "      <td>-73.980124</td>\n",
       "      <td>40.753270</td>\n",
       "      <td>1.000000</td>\n",
       "    </tr>\n",
       "    <tr>\n",
       "      <th>75%</th>\n",
       "      <td>12.500000</td>\n",
       "      <td>-73.967885</td>\n",
       "      <td>40.767232</td>\n",
       "      <td>-73.963757</td>\n",
       "      <td>40.768125</td>\n",
       "      <td>2.000000</td>\n",
       "    </tr>\n",
       "    <tr>\n",
       "      <th>max</th>\n",
       "      <td>200.000000</td>\n",
       "      <td>40.763957</td>\n",
       "      <td>41.650000</td>\n",
       "      <td>40.851027</td>\n",
       "      <td>41.391042</td>\n",
       "      <td>6.000000</td>\n",
       "    </tr>\n",
       "  </tbody>\n",
       "</table>\n",
       "</div>"
      ],
      "text/plain": [
       "             amount  longitude_of_pickup  latitude_of_pickup  \\\n",
       "count  10000.000000         10000.000000        10000.000000   \n",
       "mean      11.265919           -72.613450           39.983824   \n",
       "std        9.580333            10.040491            5.836809   \n",
       "min       -2.500000           -75.336082          -73.986968   \n",
       "25%        6.000000           -73.992214           40.734950   \n",
       "50%        8.500000           -73.982013           40.752739   \n",
       "75%       12.500000           -73.967885           40.767232   \n",
       "max      200.000000            40.763957           41.650000   \n",
       "\n",
       "       longitude_of_dropoff  latitude_of_dropoff  no_of_passenger  \n",
       "count          10000.000000         10000.000000     10000.000000  \n",
       "mean             -72.583674            39.963174         1.696800  \n",
       "std               10.140941             5.906905         1.318121  \n",
       "min              -84.654241           -74.001000         0.000000  \n",
       "25%              -73.991193            40.734105         1.000000  \n",
       "50%              -73.980124            40.753270         1.000000  \n",
       "75%              -73.963757            40.768125         2.000000  \n",
       "max               40.851027            41.391042         6.000000  "
      ]
     },
     "execution_count": 10,
     "metadata": {},
     "output_type": "execute_result"
    }
   ],
   "source": [
    "dev_set.describe()"
   ]
  },
  {
   "cell_type": "markdown",
   "id": "3a0e31d6",
   "metadata": {},
   "source": [
    "# Shape, data type, data sample and descriptive statistics of Test Set"
   ]
  },
  {
   "cell_type": "markdown",
   "id": "e7fe36ee",
   "metadata": {},
   "source": [
    "## Shape"
   ]
  },
  {
   "cell_type": "code",
   "execution_count": 11,
   "id": "f4c42047",
   "metadata": {},
   "outputs": [
    {
     "data": {
      "text/plain": [
       "(50000, 8)"
      ]
     },
     "execution_count": 11,
     "metadata": {},
     "output_type": "execute_result"
    }
   ],
   "source": [
    "test_set.shape"
   ]
  },
  {
   "cell_type": "markdown",
   "id": "81e4b51d",
   "metadata": {},
   "source": [
    "## Data type"
   ]
  },
  {
   "cell_type": "code",
   "execution_count": 12,
   "id": "cbe3c1e9",
   "metadata": {},
   "outputs": [
    {
     "data": {
      "text/plain": [
       "unique_id                object\n",
       "amount                  float64\n",
       "date_time_of_pickup      object\n",
       "longitude_of_pickup     float64\n",
       "latitude_of_pickup      float64\n",
       "longitude_of_dropoff    float64\n",
       "latitude_of_dropoff     float64\n",
       "no_of_passenger           int64\n",
       "dtype: object"
      ]
     },
     "execution_count": 12,
     "metadata": {},
     "output_type": "execute_result"
    }
   ],
   "source": [
    "test_set.dtypes"
   ]
  },
  {
   "cell_type": "markdown",
   "id": "f296c1b2",
   "metadata": {},
   "source": [
    "## Data sample"
   ]
  },
  {
   "cell_type": "code",
   "execution_count": 13,
   "id": "dfe5e368",
   "metadata": {},
   "outputs": [
    {
     "data": {
      "text/html": [
       "<div>\n",
       "<style scoped>\n",
       "    .dataframe tbody tr th:only-of-type {\n",
       "        vertical-align: middle;\n",
       "    }\n",
       "\n",
       "    .dataframe tbody tr th {\n",
       "        vertical-align: top;\n",
       "    }\n",
       "\n",
       "    .dataframe thead th {\n",
       "        text-align: right;\n",
       "    }\n",
       "</style>\n",
       "<table border=\"1\" class=\"dataframe\">\n",
       "  <thead>\n",
       "    <tr style=\"text-align: right;\">\n",
       "      <th></th>\n",
       "      <th>unique_id</th>\n",
       "      <th>amount</th>\n",
       "      <th>date_time_of_pickup</th>\n",
       "      <th>longitude_of_pickup</th>\n",
       "      <th>latitude_of_pickup</th>\n",
       "      <th>longitude_of_dropoff</th>\n",
       "      <th>latitude_of_dropoff</th>\n",
       "      <th>no_of_passenger</th>\n",
       "    </tr>\n",
       "  </thead>\n",
       "  <tbody>\n",
       "    <tr>\n",
       "      <th>0</th>\n",
       "      <td>26:21.0</td>\n",
       "      <td>4.5</td>\n",
       "      <td>2009-06-15 17:26:21 UTC</td>\n",
       "      <td>-73.844311</td>\n",
       "      <td>40.721319</td>\n",
       "      <td>-73.841610</td>\n",
       "      <td>40.712278</td>\n",
       "      <td>1</td>\n",
       "    </tr>\n",
       "    <tr>\n",
       "      <th>1</th>\n",
       "      <td>52:16.0</td>\n",
       "      <td>16.9</td>\n",
       "      <td>2010-01-05 16:52:16 UTC</td>\n",
       "      <td>-74.016048</td>\n",
       "      <td>40.711303</td>\n",
       "      <td>-73.979268</td>\n",
       "      <td>40.782004</td>\n",
       "      <td>1</td>\n",
       "    </tr>\n",
       "    <tr>\n",
       "      <th>2</th>\n",
       "      <td>35:00.0</td>\n",
       "      <td>5.7</td>\n",
       "      <td>2011-08-18 00:35:00 UTC</td>\n",
       "      <td>-73.982738</td>\n",
       "      <td>40.761270</td>\n",
       "      <td>-73.991242</td>\n",
       "      <td>40.750562</td>\n",
       "      <td>2</td>\n",
       "    </tr>\n",
       "    <tr>\n",
       "      <th>3</th>\n",
       "      <td>30:42.0</td>\n",
       "      <td>7.7</td>\n",
       "      <td>2012-04-21 04:30:42 UTC</td>\n",
       "      <td>-73.987130</td>\n",
       "      <td>40.733143</td>\n",
       "      <td>-73.991567</td>\n",
       "      <td>40.758092</td>\n",
       "      <td>1</td>\n",
       "    </tr>\n",
       "    <tr>\n",
       "      <th>4</th>\n",
       "      <td>51:00.0</td>\n",
       "      <td>5.3</td>\n",
       "      <td>2010-03-09 07:51:00 UTC</td>\n",
       "      <td>-73.968095</td>\n",
       "      <td>40.768008</td>\n",
       "      <td>-73.956655</td>\n",
       "      <td>40.783762</td>\n",
       "      <td>1</td>\n",
       "    </tr>\n",
       "  </tbody>\n",
       "</table>\n",
       "</div>"
      ],
      "text/plain": [
       "  unique_id  amount      date_time_of_pickup  longitude_of_pickup  \\\n",
       "0   26:21.0     4.5  2009-06-15 17:26:21 UTC           -73.844311   \n",
       "1   52:16.0    16.9  2010-01-05 16:52:16 UTC           -74.016048   \n",
       "2   35:00.0     5.7  2011-08-18 00:35:00 UTC           -73.982738   \n",
       "3   30:42.0     7.7  2012-04-21 04:30:42 UTC           -73.987130   \n",
       "4   51:00.0     5.3  2010-03-09 07:51:00 UTC           -73.968095   \n",
       "\n",
       "   latitude_of_pickup  longitude_of_dropoff  latitude_of_dropoff  \\\n",
       "0           40.721319            -73.841610            40.712278   \n",
       "1           40.711303            -73.979268            40.782004   \n",
       "2           40.761270            -73.991242            40.750562   \n",
       "3           40.733143            -73.991567            40.758092   \n",
       "4           40.768008            -73.956655            40.783762   \n",
       "\n",
       "   no_of_passenger  \n",
       "0                1  \n",
       "1                1  \n",
       "2                2  \n",
       "3                1  \n",
       "4                1  "
      ]
     },
     "execution_count": 13,
     "metadata": {},
     "output_type": "execute_result"
    }
   ],
   "source": [
    "test_set.head()"
   ]
  },
  {
   "cell_type": "markdown",
   "id": "bc7b6f99",
   "metadata": {},
   "source": [
    "## Descriptive statistics"
   ]
  },
  {
   "cell_type": "code",
   "execution_count": 14,
   "id": "c5876209",
   "metadata": {},
   "outputs": [
    {
     "data": {
      "text/html": [
       "<div>\n",
       "<style scoped>\n",
       "    .dataframe tbody tr th:only-of-type {\n",
       "        vertical-align: middle;\n",
       "    }\n",
       "\n",
       "    .dataframe tbody tr th {\n",
       "        vertical-align: top;\n",
       "    }\n",
       "\n",
       "    .dataframe thead th {\n",
       "        text-align: right;\n",
       "    }\n",
       "</style>\n",
       "<table border=\"1\" class=\"dataframe\">\n",
       "  <thead>\n",
       "    <tr style=\"text-align: right;\">\n",
       "      <th></th>\n",
       "      <th>amount</th>\n",
       "      <th>longitude_of_pickup</th>\n",
       "      <th>latitude_of_pickup</th>\n",
       "      <th>longitude_of_dropoff</th>\n",
       "      <th>latitude_of_dropoff</th>\n",
       "      <th>no_of_passenger</th>\n",
       "    </tr>\n",
       "  </thead>\n",
       "  <tbody>\n",
       "    <tr>\n",
       "      <th>count</th>\n",
       "      <td>50000.000000</td>\n",
       "      <td>50000.000000</td>\n",
       "      <td>50000.000000</td>\n",
       "      <td>50000.000000</td>\n",
       "      <td>50000.000000</td>\n",
       "      <td>50000.000000</td>\n",
       "    </tr>\n",
       "    <tr>\n",
       "      <th>mean</th>\n",
       "      <td>11.364171</td>\n",
       "      <td>-72.509756</td>\n",
       "      <td>39.933759</td>\n",
       "      <td>-72.504616</td>\n",
       "      <td>39.926251</td>\n",
       "      <td>1.667840</td>\n",
       "    </tr>\n",
       "    <tr>\n",
       "      <th>std</th>\n",
       "      <td>9.685557</td>\n",
       "      <td>10.393860</td>\n",
       "      <td>6.224857</td>\n",
       "      <td>10.407570</td>\n",
       "      <td>6.014737</td>\n",
       "      <td>1.289195</td>\n",
       "    </tr>\n",
       "    <tr>\n",
       "      <th>min</th>\n",
       "      <td>-5.000000</td>\n",
       "      <td>-75.423848</td>\n",
       "      <td>-74.006893</td>\n",
       "      <td>-84.654241</td>\n",
       "      <td>-74.006377</td>\n",
       "      <td>0.000000</td>\n",
       "    </tr>\n",
       "    <tr>\n",
       "      <th>25%</th>\n",
       "      <td>6.000000</td>\n",
       "      <td>-73.992062</td>\n",
       "      <td>40.734880</td>\n",
       "      <td>-73.991152</td>\n",
       "      <td>40.734372</td>\n",
       "      <td>1.000000</td>\n",
       "    </tr>\n",
       "    <tr>\n",
       "      <th>50%</th>\n",
       "      <td>8.500000</td>\n",
       "      <td>-73.981840</td>\n",
       "      <td>40.752678</td>\n",
       "      <td>-73.980082</td>\n",
       "      <td>40.753372</td>\n",
       "      <td>1.000000</td>\n",
       "    </tr>\n",
       "    <tr>\n",
       "      <th>75%</th>\n",
       "      <td>12.500000</td>\n",
       "      <td>-73.967148</td>\n",
       "      <td>40.767360</td>\n",
       "      <td>-73.963584</td>\n",
       "      <td>40.768167</td>\n",
       "      <td>2.000000</td>\n",
       "    </tr>\n",
       "    <tr>\n",
       "      <th>max</th>\n",
       "      <td>200.000000</td>\n",
       "      <td>40.783472</td>\n",
       "      <td>401.083332</td>\n",
       "      <td>40.851027</td>\n",
       "      <td>43.415190</td>\n",
       "      <td>6.000000</td>\n",
       "    </tr>\n",
       "  </tbody>\n",
       "</table>\n",
       "</div>"
      ],
      "text/plain": [
       "             amount  longitude_of_pickup  latitude_of_pickup  \\\n",
       "count  50000.000000         50000.000000        50000.000000   \n",
       "mean      11.364171           -72.509756           39.933759   \n",
       "std        9.685557            10.393860            6.224857   \n",
       "min       -5.000000           -75.423848          -74.006893   \n",
       "25%        6.000000           -73.992062           40.734880   \n",
       "50%        8.500000           -73.981840           40.752678   \n",
       "75%       12.500000           -73.967148           40.767360   \n",
       "max      200.000000            40.783472          401.083332   \n",
       "\n",
       "       longitude_of_dropoff  latitude_of_dropoff  no_of_passenger  \n",
       "count          50000.000000         50000.000000     50000.000000  \n",
       "mean             -72.504616            39.926251         1.667840  \n",
       "std               10.407570             6.014737         1.289195  \n",
       "min              -84.654241           -74.006377         0.000000  \n",
       "25%              -73.991152            40.734372         1.000000  \n",
       "50%              -73.980082            40.753372         1.000000  \n",
       "75%              -73.963584            40.768167         2.000000  \n",
       "max               40.851027            43.415190         6.000000  "
      ]
     },
     "execution_count": 14,
     "metadata": {},
     "output_type": "execute_result"
    }
   ],
   "source": [
    "test_set.describe()"
   ]
  },
  {
   "cell_type": "markdown",
   "id": "ed62438c",
   "metadata": {},
   "source": [
    "# Data cleaning\n",
    "\n",
    "## Removing Null values from the Train set"
   ]
  },
  {
   "cell_type": "code",
   "execution_count": 15,
   "id": "a99176d9",
   "metadata": {},
   "outputs": [
    {
     "data": {
      "text/plain": [
       "unique_id               0\n",
       "amount                  0\n",
       "date_time_of_pickup     0\n",
       "longitude_of_pickup     0\n",
       "latitude_of_pickup      0\n",
       "longitude_of_dropoff    0\n",
       "latitude_of_dropoff     0\n",
       "no_of_passenger         0\n",
       "dtype: int64"
      ]
     },
     "execution_count": 15,
     "metadata": {},
     "output_type": "execute_result"
    }
   ],
   "source": [
    "train_set.isnull().sum().sort_values(ascending = False)"
   ]
  },
  {
   "cell_type": "code",
   "execution_count": 16,
   "id": "46c2c6d0",
   "metadata": {},
   "outputs": [
    {
     "data": {
      "text/plain": [
       "unique_id               0\n",
       "amount                  0\n",
       "date_time_of_pickup     0\n",
       "longitude_of_pickup     0\n",
       "latitude_of_pickup      0\n",
       "longitude_of_dropoff    0\n",
       "latitude_of_dropoff     0\n",
       "no_of_passenger         0\n",
       "dtype: int64"
      ]
     },
     "execution_count": 16,
     "metadata": {},
     "output_type": "execute_result"
    }
   ],
   "source": [
    "dev_set.isnull().sum().sort_values(ascending = False)"
   ]
  },
  {
   "cell_type": "code",
   "execution_count": 17,
   "id": "bf6ebc7c",
   "metadata": {},
   "outputs": [
    {
     "data": {
      "text/plain": [
       "unique_id               0\n",
       "amount                  0\n",
       "date_time_of_pickup     0\n",
       "longitude_of_pickup     0\n",
       "latitude_of_pickup      0\n",
       "longitude_of_dropoff    0\n",
       "latitude_of_dropoff     0\n",
       "no_of_passenger         0\n",
       "dtype: int64"
      ]
     },
     "execution_count": 17,
     "metadata": {},
     "output_type": "execute_result"
    }
   ],
   "source": [
    "test_set.isnull().sum().sort_values(ascending = False)"
   ]
  },
  {
   "cell_type": "code",
   "execution_count": 18,
   "id": "feaf7d78",
   "metadata": {},
   "outputs": [
    {
     "data": {
      "text/plain": [
       "(50000, 8)"
      ]
     },
     "execution_count": 18,
     "metadata": {},
     "output_type": "execute_result"
    }
   ],
   "source": [
    "train_set = train_set.drop(train_set[train_set.isnull().any(1)].index , axis = 0)\n",
    "train_set.shape"
   ]
  },
  {
   "cell_type": "code",
   "execution_count": 19,
   "id": "af26dd16",
   "metadata": {},
   "outputs": [
    {
     "data": {
      "text/plain": [
       "(10000, 8)"
      ]
     },
     "execution_count": 19,
     "metadata": {},
     "output_type": "execute_result"
    }
   ],
   "source": [
    "dev_set = dev_set.drop(dev_set[dev_set.isnull().any(1)].index , axis = 0)\n",
    "dev_set.shape"
   ]
  },
  {
   "cell_type": "code",
   "execution_count": 20,
   "id": "acef78f6",
   "metadata": {},
   "outputs": [
    {
     "data": {
      "text/plain": [
       "(50000, 8)"
      ]
     },
     "execution_count": 20,
     "metadata": {},
     "output_type": "execute_result"
    }
   ],
   "source": [
    "test_set = test_set.drop(test_set[test_set.isnull().any(1)].index , axis = 0)\n",
    "test_set.shape"
   ]
  },
  {
   "cell_type": "markdown",
   "id": "a2690750",
   "metadata": {},
   "source": [
    "# Removing rows from the dataset having invalid data"
   ]
  },
  {
   "cell_type": "code",
   "execution_count": 21,
   "id": "4d032704",
   "metadata": {},
   "outputs": [
    {
     "data": {
      "text/html": [
       "<div>\n",
       "<style scoped>\n",
       "    .dataframe tbody tr th:only-of-type {\n",
       "        vertical-align: middle;\n",
       "    }\n",
       "\n",
       "    .dataframe tbody tr th {\n",
       "        vertical-align: top;\n",
       "    }\n",
       "\n",
       "    .dataframe thead th {\n",
       "        text-align: right;\n",
       "    }\n",
       "</style>\n",
       "<table border=\"1\" class=\"dataframe\">\n",
       "  <thead>\n",
       "    <tr style=\"text-align: right;\">\n",
       "      <th></th>\n",
       "      <th>amount</th>\n",
       "      <th>longitude_of_pickup</th>\n",
       "      <th>latitude_of_pickup</th>\n",
       "      <th>longitude_of_dropoff</th>\n",
       "      <th>latitude_of_dropoff</th>\n",
       "      <th>no_of_passenger</th>\n",
       "    </tr>\n",
       "  </thead>\n",
       "  <tbody>\n",
       "    <tr>\n",
       "      <th>count</th>\n",
       "      <td>50000.000000</td>\n",
       "      <td>50000.000000</td>\n",
       "      <td>50000.000000</td>\n",
       "      <td>50000.000000</td>\n",
       "      <td>50000.000000</td>\n",
       "      <td>50000.000000</td>\n",
       "    </tr>\n",
       "    <tr>\n",
       "      <th>mean</th>\n",
       "      <td>11.364171</td>\n",
       "      <td>-72.509756</td>\n",
       "      <td>39.933759</td>\n",
       "      <td>-72.504616</td>\n",
       "      <td>39.926251</td>\n",
       "      <td>1.667840</td>\n",
       "    </tr>\n",
       "    <tr>\n",
       "      <th>std</th>\n",
       "      <td>9.685557</td>\n",
       "      <td>10.393860</td>\n",
       "      <td>6.224857</td>\n",
       "      <td>10.407570</td>\n",
       "      <td>6.014737</td>\n",
       "      <td>1.289195</td>\n",
       "    </tr>\n",
       "    <tr>\n",
       "      <th>min</th>\n",
       "      <td>-5.000000</td>\n",
       "      <td>-75.423848</td>\n",
       "      <td>-74.006893</td>\n",
       "      <td>-84.654241</td>\n",
       "      <td>-74.006377</td>\n",
       "      <td>0.000000</td>\n",
       "    </tr>\n",
       "    <tr>\n",
       "      <th>25%</th>\n",
       "      <td>6.000000</td>\n",
       "      <td>-73.992062</td>\n",
       "      <td>40.734880</td>\n",
       "      <td>-73.991152</td>\n",
       "      <td>40.734372</td>\n",
       "      <td>1.000000</td>\n",
       "    </tr>\n",
       "    <tr>\n",
       "      <th>50%</th>\n",
       "      <td>8.500000</td>\n",
       "      <td>-73.981840</td>\n",
       "      <td>40.752678</td>\n",
       "      <td>-73.980082</td>\n",
       "      <td>40.753372</td>\n",
       "      <td>1.000000</td>\n",
       "    </tr>\n",
       "    <tr>\n",
       "      <th>75%</th>\n",
       "      <td>12.500000</td>\n",
       "      <td>-73.967148</td>\n",
       "      <td>40.767360</td>\n",
       "      <td>-73.963584</td>\n",
       "      <td>40.768167</td>\n",
       "      <td>2.000000</td>\n",
       "    </tr>\n",
       "    <tr>\n",
       "      <th>max</th>\n",
       "      <td>200.000000</td>\n",
       "      <td>40.783472</td>\n",
       "      <td>401.083332</td>\n",
       "      <td>40.851027</td>\n",
       "      <td>43.415190</td>\n",
       "      <td>6.000000</td>\n",
       "    </tr>\n",
       "  </tbody>\n",
       "</table>\n",
       "</div>"
      ],
      "text/plain": [
       "             amount  longitude_of_pickup  latitude_of_pickup  \\\n",
       "count  50000.000000         50000.000000        50000.000000   \n",
       "mean      11.364171           -72.509756           39.933759   \n",
       "std        9.685557            10.393860            6.224857   \n",
       "min       -5.000000           -75.423848          -74.006893   \n",
       "25%        6.000000           -73.992062           40.734880   \n",
       "50%        8.500000           -73.981840           40.752678   \n",
       "75%       12.500000           -73.967148           40.767360   \n",
       "max      200.000000            40.783472          401.083332   \n",
       "\n",
       "       longitude_of_dropoff  latitude_of_dropoff  no_of_passenger  \n",
       "count          50000.000000         50000.000000     50000.000000  \n",
       "mean             -72.504616            39.926251         1.667840  \n",
       "std               10.407570             6.014737         1.289195  \n",
       "min              -84.654241           -74.006377         0.000000  \n",
       "25%              -73.991152            40.734372         1.000000  \n",
       "50%              -73.980082            40.753372         1.000000  \n",
       "75%              -73.963584            40.768167         2.000000  \n",
       "max               40.851027            43.415190         6.000000  "
      ]
     },
     "execution_count": 21,
     "metadata": {},
     "output_type": "execute_result"
    }
   ],
   "source": [
    "train_set.describe()"
   ]
  },
  {
   "cell_type": "code",
   "execution_count": 22,
   "id": "ade8b40c",
   "metadata": {},
   "outputs": [
    {
     "data": {
      "text/plain": [
       "unique_id               0\n",
       "amount                  0\n",
       "date_time_of_pickup     0\n",
       "longitude_of_pickup     0\n",
       "latitude_of_pickup      0\n",
       "longitude_of_dropoff    0\n",
       "latitude_of_dropoff     0\n",
       "no_of_passenger         0\n",
       "dtype: int64"
      ]
     },
     "execution_count": 22,
     "metadata": {},
     "output_type": "execute_result"
    }
   ],
   "source": [
    "train_set.isnull().sum()"
   ]
  },
  {
   "cell_type": "markdown",
   "id": "0e7cc6ae",
   "metadata": {},
   "source": [
    "## Train_set has negative values for amount which should be removed"
   ]
  },
  {
   "cell_type": "code",
   "execution_count": 23,
   "id": "e048b142",
   "metadata": {},
   "outputs": [
    {
     "data": {
      "text/plain": [
       "(49994, 8)"
      ]
     },
     "execution_count": 23,
     "metadata": {},
     "output_type": "execute_result"
    }
   ],
   "source": [
    "train_set=train_set.drop(train_set[train_set[\"amount\"]<0].index,axis=0)\n",
    "train_set.shape"
   ]
  },
  {
   "cell_type": "code",
   "execution_count": 24,
   "id": "ebceaac8",
   "metadata": {},
   "outputs": [
    {
     "data": {
      "text/plain": [
       "count    49994.000000\n",
       "mean        11.365903\n",
       "std          9.684843\n",
       "min          0.000000\n",
       "25%          6.000000\n",
       "50%          8.500000\n",
       "75%         12.500000\n",
       "max        200.000000\n",
       "Name: amount, dtype: float64"
      ]
     },
     "execution_count": 24,
     "metadata": {},
     "output_type": "execute_result"
    }
   ],
   "source": [
    "train_set[\"amount\"].describe()"
   ]
  },
  {
   "cell_type": "code",
   "execution_count": 25,
   "id": "5b0e507f",
   "metadata": {},
   "outputs": [
    {
     "data": {
      "text/plain": [
       "count    49994.000000\n",
       "mean         1.667860\n",
       "std          1.289213\n",
       "min          0.000000\n",
       "25%          1.000000\n",
       "50%          1.000000\n",
       "75%          2.000000\n",
       "max          6.000000\n",
       "Name: no_of_passenger, dtype: float64"
      ]
     },
     "execution_count": 25,
     "metadata": {},
     "output_type": "execute_result"
    }
   ],
   "source": [
    "train_set[\"no_of_passenger\"].describe()"
   ]
  },
  {
   "cell_type": "code",
   "execution_count": 26,
   "id": "aff29a47",
   "metadata": {},
   "outputs": [
    {
     "data": {
      "text/plain": [
       "unique_id                object\n",
       "amount                  float64\n",
       "date_time_of_pickup      object\n",
       "longitude_of_pickup     float64\n",
       "latitude_of_pickup      float64\n",
       "longitude_of_dropoff    float64\n",
       "latitude_of_dropoff     float64\n",
       "no_of_passenger           int64\n",
       "dtype: object"
      ]
     },
     "execution_count": 26,
     "metadata": {},
     "output_type": "execute_result"
    }
   ],
   "source": [
    "train_set.dtypes"
   ]
  },
  {
   "cell_type": "markdown",
   "id": "190c4350",
   "metadata": {},
   "source": [
    "## Checking for duplicate values"
   ]
  },
  {
   "cell_type": "code",
   "execution_count": 27,
   "id": "5538e0e8",
   "metadata": {},
   "outputs": [
    {
     "name": "stdout",
     "output_type": "stream",
     "text": [
      "0\n"
     ]
    },
    {
     "data": {
      "text/html": [
       "<div>\n",
       "<style scoped>\n",
       "    .dataframe tbody tr th:only-of-type {\n",
       "        vertical-align: middle;\n",
       "    }\n",
       "\n",
       "    .dataframe tbody tr th {\n",
       "        vertical-align: top;\n",
       "    }\n",
       "\n",
       "    .dataframe thead th {\n",
       "        text-align: right;\n",
       "    }\n",
       "</style>\n",
       "<table border=\"1\" class=\"dataframe\">\n",
       "  <thead>\n",
       "    <tr style=\"text-align: right;\">\n",
       "      <th></th>\n",
       "      <th>unique_id</th>\n",
       "      <th>amount</th>\n",
       "      <th>date_time_of_pickup</th>\n",
       "      <th>longitude_of_pickup</th>\n",
       "      <th>latitude_of_pickup</th>\n",
       "      <th>longitude_of_dropoff</th>\n",
       "      <th>latitude_of_dropoff</th>\n",
       "      <th>no_of_passenger</th>\n",
       "    </tr>\n",
       "  </thead>\n",
       "  <tbody>\n",
       "  </tbody>\n",
       "</table>\n",
       "</div>"
      ],
      "text/plain": [
       "Empty DataFrame\n",
       "Columns: [unique_id, amount, date_time_of_pickup, longitude_of_pickup, latitude_of_pickup, longitude_of_dropoff, latitude_of_dropoff, no_of_passenger]\n",
       "Index: []"
      ]
     },
     "execution_count": 27,
     "metadata": {},
     "output_type": "execute_result"
    }
   ],
   "source": [
    "duplicate=train_set.duplicated()\n",
    "print(duplicate.sum())\n",
    "train_set[duplicate]"
   ]
  },
  {
   "cell_type": "markdown",
   "id": "331a68f1",
   "metadata": {},
   "source": [
    "# Data visualisation "
   ]
  },
  {
   "cell_type": "code",
   "execution_count": 28,
   "id": "0de9958d",
   "metadata": {},
   "outputs": [
    {
     "data": {
      "text/plain": [
       "Text(0, 0.5, 'Frequency')"
      ]
     },
     "execution_count": 28,
     "metadata": {},
     "output_type": "execute_result"
    },
    {
     "data": {
      "image/png": "[encoded data removed]",
      "text/plain": [
       "<Figure size 500x500 with 1 Axes>"
      ]
     },
     "metadata": {},
     "output_type": "display_data"
    }
   ],
   "source": [
    "plt.figure(figsize=(5,5))\n",
    "plt.hist(train_set['no_of_passenger'], bins=15)\n",
    "plt.xlabel('No. of Passengers')\n",
    "plt.ylabel('Frequency')"
   ]
  },
  {
   "cell_type": "code",
   "execution_count": 29,
   "id": "467096fb",
   "metadata": {},
   "outputs": [
    {
     "data": {
      "text/plain": [
       "Text(0, 0.5, 'Fare')"
      ]
     },
     "execution_count": 29,
     "metadata": {},
     "output_type": "execute_result"
    },
    {
     "data": {
      "image/png": "[encoded data removed]",
      "text/plain": [
       "<Figure size 1000x500 with 1 Axes>"
      ]
     },
     "metadata": {},
     "output_type": "display_data"
    }
   ],
   "source": [
    "plt.figure(figsize=(10,5))\n",
    "plt.scatter(x=train_set['no_of_passenger'], y=train_set['amount'], s=1.5)\n",
    "plt.xlabel('No. of Passengers')\n",
    "plt.ylabel('Fare')"
   ]
  },
  {
   "cell_type": "code",
   "execution_count": 30,
   "id": "23db668c",
   "metadata": {},
   "outputs": [
    {
     "data": {
      "image/png": "[encoded data removed]",
      "text/plain": [
       "<Figure size 1000x700 with 6 Axes>"
      ]
     },
     "metadata": {},
     "output_type": "display_data"
    }
   ],
   "source": [
    "train_set.hist(bins=3, figsize=(10,7))\n",
    "plt.show()"
   ]
  },
  {
   "cell_type": "markdown",
   "id": "512165c5",
   "metadata": {},
   "source": [
    "## Removing invalid Longitude and Latitude"
   ]
  },
  {
   "cell_type": "code",
   "execution_count": 31,
   "id": "62aed837",
   "metadata": {},
   "outputs": [
    {
     "data": {
      "text/html": [
       "<div>\n",
       "<style scoped>\n",
       "    .dataframe tbody tr th:only-of-type {\n",
       "        vertical-align: middle;\n",
       "    }\n",
       "\n",
       "    .dataframe tbody tr th {\n",
       "        vertical-align: top;\n",
       "    }\n",
       "\n",
       "    .dataframe thead th {\n",
       "        text-align: right;\n",
       "    }\n",
       "</style>\n",
       "<table border=\"1\" class=\"dataframe\">\n",
       "  <thead>\n",
       "    <tr style=\"text-align: right;\">\n",
       "      <th></th>\n",
       "      <th>longitude_of_pickup</th>\n",
       "      <th>latitude_of_pickup</th>\n",
       "    </tr>\n",
       "  </thead>\n",
       "  <tbody>\n",
       "    <tr>\n",
       "      <th>count</th>\n",
       "      <td>49994.000000</td>\n",
       "      <td>49994.000000</td>\n",
       "    </tr>\n",
       "    <tr>\n",
       "      <th>mean</th>\n",
       "      <td>-72.509586</td>\n",
       "      <td>39.933665</td>\n",
       "    </tr>\n",
       "    <tr>\n",
       "      <th>std</th>\n",
       "      <td>10.394472</td>\n",
       "      <td>6.225225</td>\n",
       "    </tr>\n",
       "    <tr>\n",
       "      <th>min</th>\n",
       "      <td>-75.423848</td>\n",
       "      <td>-74.006893</td>\n",
       "    </tr>\n",
       "    <tr>\n",
       "      <th>25%</th>\n",
       "      <td>-73.992062</td>\n",
       "      <td>40.734883</td>\n",
       "    </tr>\n",
       "    <tr>\n",
       "      <th>50%</th>\n",
       "      <td>-73.981840</td>\n",
       "      <td>40.752679</td>\n",
       "    </tr>\n",
       "    <tr>\n",
       "      <th>75%</th>\n",
       "      <td>-73.967153</td>\n",
       "      <td>40.767361</td>\n",
       "    </tr>\n",
       "    <tr>\n",
       "      <th>max</th>\n",
       "      <td>40.783472</td>\n",
       "      <td>401.083332</td>\n",
       "    </tr>\n",
       "  </tbody>\n",
       "</table>\n",
       "</div>"
      ],
      "text/plain": [
       "       longitude_of_pickup  latitude_of_pickup\n",
       "count         49994.000000        49994.000000\n",
       "mean            -72.509586           39.933665\n",
       "std              10.394472            6.225225\n",
       "min             -75.423848          -74.006893\n",
       "25%             -73.992062           40.734883\n",
       "50%             -73.981840           40.752679\n",
       "75%             -73.967153           40.767361\n",
       "max              40.783472          401.083332"
      ]
     },
     "execution_count": 31,
     "metadata": {},
     "output_type": "execute_result"
    }
   ],
   "source": [
    "train_set[['longitude_of_pickup','latitude_of_pickup']].describe()"
   ]
  },
  {
   "cell_type": "code",
   "execution_count": 32,
   "id": "33d82a2e",
   "metadata": {},
   "outputs": [
    {
     "data": {
      "text/html": [
       "<div>\n",
       "<style scoped>\n",
       "    .dataframe tbody tr th:only-of-type {\n",
       "        vertical-align: middle;\n",
       "    }\n",
       "\n",
       "    .dataframe tbody tr th {\n",
       "        vertical-align: top;\n",
       "    }\n",
       "\n",
       "    .dataframe thead th {\n",
       "        text-align: right;\n",
       "    }\n",
       "</style>\n",
       "<table border=\"1\" class=\"dataframe\">\n",
       "  <thead>\n",
       "    <tr style=\"text-align: right;\">\n",
       "      <th></th>\n",
       "      <th>longitude_of_dropoff</th>\n",
       "      <th>latitude_of_dropoff</th>\n",
       "    </tr>\n",
       "  </thead>\n",
       "  <tbody>\n",
       "    <tr>\n",
       "      <th>count</th>\n",
       "      <td>49994.000000</td>\n",
       "      <td>49994.000000</td>\n",
       "    </tr>\n",
       "    <tr>\n",
       "      <th>mean</th>\n",
       "      <td>-72.505922</td>\n",
       "      <td>39.926970</td>\n",
       "    </tr>\n",
       "    <tr>\n",
       "      <th>std</th>\n",
       "      <td>10.403131</td>\n",
       "      <td>6.012441</td>\n",
       "    </tr>\n",
       "    <tr>\n",
       "      <th>min</th>\n",
       "      <td>-84.654241</td>\n",
       "      <td>-74.006377</td>\n",
       "    </tr>\n",
       "    <tr>\n",
       "      <th>25%</th>\n",
       "      <td>-73.991152</td>\n",
       "      <td>40.734375</td>\n",
       "    </tr>\n",
       "    <tr>\n",
       "      <th>50%</th>\n",
       "      <td>-73.980082</td>\n",
       "      <td>40.753373</td>\n",
       "    </tr>\n",
       "    <tr>\n",
       "      <th>75%</th>\n",
       "      <td>-73.963585</td>\n",
       "      <td>40.768167</td>\n",
       "    </tr>\n",
       "    <tr>\n",
       "      <th>max</th>\n",
       "      <td>40.851027</td>\n",
       "      <td>43.415190</td>\n",
       "    </tr>\n",
       "  </tbody>\n",
       "</table>\n",
       "</div>"
      ],
      "text/plain": [
       "       longitude_of_dropoff  latitude_of_dropoff\n",
       "count          49994.000000         49994.000000\n",
       "mean             -72.505922            39.926970\n",
       "std               10.403131             6.012441\n",
       "min              -84.654241           -74.006377\n",
       "25%              -73.991152            40.734375\n",
       "50%              -73.980082            40.753373\n",
       "75%              -73.963585            40.768167\n",
       "max               40.851027            43.415190"
      ]
     },
     "execution_count": 32,
     "metadata": {},
     "output_type": "execute_result"
    }
   ],
   "source": [
    "train_set[['longitude_of_dropoff','latitude_of_dropoff']].describe()"
   ]
  },
  {
   "cell_type": "markdown",
   "id": "43b2473a",
   "metadata": {},
   "source": [
    "Valid Longitude value = -180 to 180\n",
    "\n",
    "Valid Latitude value = -90 to 90\n",
    "\n",
    "Remove pickup cordinates and drop off cordinates which dont fall in this range\n",
    "\n",
    "Remove invalid pickup cordinates"
   ]
  },
  {
   "cell_type": "code",
   "execution_count": 33,
   "id": "6debae33",
   "metadata": {},
   "outputs": [
    {
     "name": "stdout",
     "output_type": "stream",
     "text": [
      "Number of invalid pickup cordinates =  1\n"
     ]
    }
   ],
   "source": [
    "print(\"Number of invalid pickup cordinates = \",len((train_set[train_set['latitude_of_pickup']>90])))"
   ]
  },
  {
   "cell_type": "code",
   "execution_count": 34,
   "id": "db263d89",
   "metadata": {},
   "outputs": [
    {
     "data": {
      "text/plain": [
       "(49993, 8)"
      ]
     },
     "execution_count": 34,
     "metadata": {},
     "output_type": "execute_result"
    }
   ],
   "source": [
    "train_set = train_set.drop(((train_set[train_set['latitude_of_pickup']>90])).index,axis=0)\n",
    "train_set.shape"
   ]
  },
  {
   "cell_type": "markdown",
   "id": "86b51ced",
   "metadata": {},
   "source": [
    "# Distance between pick up location and drop off location\n",
    "\n",
    "The distance in a sphere can be calculated when latitudes and longitudes are given by Haversine formula\n",
    "\n",
    "haversine(θ) = sin²(θ/2)\n",
    "\n",
    "φ is latitude, λ is longitude, R is earth’s radius (mean radius = 6,371km) to include latitude and longitude coordinates (A and B in this case).\n",
    "\n",
    "a = sin²((φB - φA)/2) + cos φA . cos φB . sin²((λB - λA)/2)\n",
    "\n",
    "c = 2 * atan2( √a, √(1−a) )\n",
    "\n",
    "d = R ⋅ c\n",
    "\n",
    "d = Haversine distance"
   ]
  },
  {
   "cell_type": "code",
   "execution_count": 35,
   "id": "41f1d41e",
   "metadata": {},
   "outputs": [],
   "source": [
    "def haversine_distance(train_set):\n",
    "    R = 6371        # Radius of earth in Kilo Meter\n",
    "    \n",
    "    pickup_data = train_set[['longitude_of_pickup','latitude_of_pickup']]\n",
    "    dropoff_data = train_set[['longitude_of_dropoff','latitude_of_dropoff']]\n",
    "    \n",
    "    phi1 = np.radians(pickup_data['latitude_of_pickup'])\n",
    "    phi2 = np.radians(dropoff_data['latitude_of_dropoff'])\n",
    "    \n",
    "    delta_phi = np.radians(dropoff_data['latitude_of_dropoff'] - pickup_data['latitude_of_pickup'])\n",
    "    delta_lambda = np.radians(dropoff_data['longitude_of_dropoff'] - pickup_data['longitude_of_pickup'])\n",
    "    \n",
    "    #a = sin²((φB - φA)/2) + cos φA . cos φB . sin²((λB - λA)/2)\n",
    "    a = np.sin((delta_phi)/2)**2 + np.cos(phi1)*np.cos(phi2)*np.sin(delta_lambda/2)**2\n",
    "    \n",
    "    #c = 2 * atan2( √a, √(1−a) )\n",
    "    c = 2 * np.arctan2(np.sqrt(a),np.sqrt(1-a))\n",
    "    d = R * c\n",
    "    \n",
    "    return d"
   ]
  },
  {
   "cell_type": "code",
   "execution_count": 36,
   "id": "2f9cd3fe",
   "metadata": {},
   "outputs": [],
   "source": [
    "train_set_distance = pd.DataFrame(haversine_distance(train_set) , columns=['Distance'])\n",
    "train_set = pd.concat([train_set , train_set_distance] , axis = 1)"
   ]
  },
  {
   "cell_type": "code",
   "execution_count": 37,
   "id": "0eabdc8a",
   "metadata": {},
   "outputs": [],
   "source": [
    "dev_set_distance = pd.DataFrame(haversine_distance(dev_set) , columns=['Distance'])\n",
    "dev_set = pd.concat([dev_set , dev_set_distance] , axis = 1)"
   ]
  },
  {
   "cell_type": "code",
   "execution_count": 38,
   "id": "23e1a5eb",
   "metadata": {},
   "outputs": [
    {
     "data": {
      "text/html": [
       "<div>\n",
       "<style scoped>\n",
       "    .dataframe tbody tr th:only-of-type {\n",
       "        vertical-align: middle;\n",
       "    }\n",
       "\n",
       "    .dataframe tbody tr th {\n",
       "        vertical-align: top;\n",
       "    }\n",
       "\n",
       "    .dataframe thead th {\n",
       "        text-align: right;\n",
       "    }\n",
       "</style>\n",
       "<table border=\"1\" class=\"dataframe\">\n",
       "  <thead>\n",
       "    <tr style=\"text-align: right;\">\n",
       "      <th></th>\n",
       "      <th>unique_id</th>\n",
       "      <th>amount</th>\n",
       "      <th>date_time_of_pickup</th>\n",
       "      <th>longitude_of_pickup</th>\n",
       "      <th>latitude_of_pickup</th>\n",
       "      <th>longitude_of_dropoff</th>\n",
       "      <th>latitude_of_dropoff</th>\n",
       "      <th>no_of_passenger</th>\n",
       "      <th>Distance</th>\n",
       "    </tr>\n",
       "  </thead>\n",
       "  <tbody>\n",
       "    <tr>\n",
       "      <th>31419</th>\n",
       "      <td>54:00.0</td>\n",
       "      <td>4.5</td>\n",
       "      <td>2011-08-05 22:54:00 UTC</td>\n",
       "      <td>-73.966232</td>\n",
       "      <td>40.756073</td>\n",
       "      <td>-73.974018</td>\n",
       "      <td>40.751165</td>\n",
       "      <td>1</td>\n",
       "      <td>0.853205</td>\n",
       "    </tr>\n",
       "    <tr>\n",
       "      <th>37658</th>\n",
       "      <td>48:18.0</td>\n",
       "      <td>4.5</td>\n",
       "      <td>2013-01-03 06:48:18 UTC</td>\n",
       "      <td>-73.976389</td>\n",
       "      <td>40.755492</td>\n",
       "      <td>-73.985983</td>\n",
       "      <td>40.757071</td>\n",
       "      <td>1</td>\n",
       "      <td>0.826951</td>\n",
       "    </tr>\n",
       "    <tr>\n",
       "      <th>24950</th>\n",
       "      <td>38:00.0</td>\n",
       "      <td>5.0</td>\n",
       "      <td>2012-09-26 11:38:00 UTC</td>\n",
       "      <td>-73.957280</td>\n",
       "      <td>40.800222</td>\n",
       "      <td>-73.949778</td>\n",
       "      <td>40.793720</td>\n",
       "      <td>1</td>\n",
       "      <td>0.959952</td>\n",
       "    </tr>\n",
       "    <tr>\n",
       "      <th>17068</th>\n",
       "      <td>12:00.0</td>\n",
       "      <td>10.1</td>\n",
       "      <td>2009-04-25 01:12:00 UTC</td>\n",
       "      <td>-73.994217</td>\n",
       "      <td>40.726452</td>\n",
       "      <td>-73.985068</td>\n",
       "      <td>40.760848</td>\n",
       "      <td>2</td>\n",
       "      <td>3.901551</td>\n",
       "    </tr>\n",
       "    <tr>\n",
       "      <th>5392</th>\n",
       "      <td>54:00.0</td>\n",
       "      <td>4.5</td>\n",
       "      <td>2011-11-05 12:54:00 UTC</td>\n",
       "      <td>-73.979552</td>\n",
       "      <td>40.766448</td>\n",
       "      <td>-73.985712</td>\n",
       "      <td>40.761210</td>\n",
       "      <td>5</td>\n",
       "      <td>0.779989</td>\n",
       "    </tr>\n",
       "  </tbody>\n",
       "</table>\n",
       "</div>"
      ],
      "text/plain": [
       "      unique_id  amount      date_time_of_pickup  longitude_of_pickup  \\\n",
       "31419   54:00.0     4.5  2011-08-05 22:54:00 UTC           -73.966232   \n",
       "37658   48:18.0     4.5  2013-01-03 06:48:18 UTC           -73.976389   \n",
       "24950   38:00.0     5.0  2012-09-26 11:38:00 UTC           -73.957280   \n",
       "17068   12:00.0    10.1  2009-04-25 01:12:00 UTC           -73.994217   \n",
       "5392    54:00.0     4.5  2011-11-05 12:54:00 UTC           -73.979552   \n",
       "\n",
       "       latitude_of_pickup  longitude_of_dropoff  latitude_of_dropoff  \\\n",
       "31419           40.756073            -73.974018            40.751165   \n",
       "37658           40.755492            -73.985983            40.757071   \n",
       "24950           40.800222            -73.949778            40.793720   \n",
       "17068           40.726452            -73.985068            40.760848   \n",
       "5392            40.766448            -73.985712            40.761210   \n",
       "\n",
       "       no_of_passenger  Distance  \n",
       "31419                1  0.853205  \n",
       "37658                1  0.826951  \n",
       "24950                1  0.959952  \n",
       "17068                2  3.901551  \n",
       "5392                 5  0.779989  "
      ]
     },
     "execution_count": 38,
     "metadata": {},
     "output_type": "execute_result"
    }
   ],
   "source": [
    "dev_set.head()"
   ]
  },
  {
   "cell_type": "code",
   "execution_count": 39,
   "id": "fe92355b",
   "metadata": {},
   "outputs": [
    {
     "data": {
      "text/html": [
       "<div>\n",
       "<style scoped>\n",
       "    .dataframe tbody tr th:only-of-type {\n",
       "        vertical-align: middle;\n",
       "    }\n",
       "\n",
       "    .dataframe tbody tr th {\n",
       "        vertical-align: top;\n",
       "    }\n",
       "\n",
       "    .dataframe thead th {\n",
       "        text-align: right;\n",
       "    }\n",
       "</style>\n",
       "<table border=\"1\" class=\"dataframe\">\n",
       "  <thead>\n",
       "    <tr style=\"text-align: right;\">\n",
       "      <th></th>\n",
       "      <th>unique_id</th>\n",
       "      <th>amount</th>\n",
       "      <th>date_time_of_pickup</th>\n",
       "      <th>longitude_of_pickup</th>\n",
       "      <th>latitude_of_pickup</th>\n",
       "      <th>longitude_of_dropoff</th>\n",
       "      <th>latitude_of_dropoff</th>\n",
       "      <th>no_of_passenger</th>\n",
       "      <th>Distance</th>\n",
       "    </tr>\n",
       "  </thead>\n",
       "  <tbody>\n",
       "    <tr>\n",
       "      <th>0</th>\n",
       "      <td>26:21.0</td>\n",
       "      <td>4.5</td>\n",
       "      <td>2009-06-15 17:26:21 UTC</td>\n",
       "      <td>-73.844311</td>\n",
       "      <td>40.721319</td>\n",
       "      <td>-73.841610</td>\n",
       "      <td>40.712278</td>\n",
       "      <td>1</td>\n",
       "      <td>1.030764</td>\n",
       "    </tr>\n",
       "    <tr>\n",
       "      <th>1</th>\n",
       "      <td>52:16.0</td>\n",
       "      <td>16.9</td>\n",
       "      <td>2010-01-05 16:52:16 UTC</td>\n",
       "      <td>-74.016048</td>\n",
       "      <td>40.711303</td>\n",
       "      <td>-73.979268</td>\n",
       "      <td>40.782004</td>\n",
       "      <td>1</td>\n",
       "      <td>8.450134</td>\n",
       "    </tr>\n",
       "    <tr>\n",
       "      <th>2</th>\n",
       "      <td>35:00.0</td>\n",
       "      <td>5.7</td>\n",
       "      <td>2011-08-18 00:35:00 UTC</td>\n",
       "      <td>-73.982738</td>\n",
       "      <td>40.761270</td>\n",
       "      <td>-73.991242</td>\n",
       "      <td>40.750562</td>\n",
       "      <td>2</td>\n",
       "      <td>1.389525</td>\n",
       "    </tr>\n",
       "    <tr>\n",
       "      <th>3</th>\n",
       "      <td>30:42.0</td>\n",
       "      <td>7.7</td>\n",
       "      <td>2012-04-21 04:30:42 UTC</td>\n",
       "      <td>-73.987130</td>\n",
       "      <td>40.733143</td>\n",
       "      <td>-73.991567</td>\n",
       "      <td>40.758092</td>\n",
       "      <td>1</td>\n",
       "      <td>2.799270</td>\n",
       "    </tr>\n",
       "    <tr>\n",
       "      <th>4</th>\n",
       "      <td>51:00.0</td>\n",
       "      <td>5.3</td>\n",
       "      <td>2010-03-09 07:51:00 UTC</td>\n",
       "      <td>-73.968095</td>\n",
       "      <td>40.768008</td>\n",
       "      <td>-73.956655</td>\n",
       "      <td>40.783762</td>\n",
       "      <td>1</td>\n",
       "      <td>1.999157</td>\n",
       "    </tr>\n",
       "  </tbody>\n",
       "</table>\n",
       "</div>"
      ],
      "text/plain": [
       "  unique_id  amount      date_time_of_pickup  longitude_of_pickup  \\\n",
       "0   26:21.0     4.5  2009-06-15 17:26:21 UTC           -73.844311   \n",
       "1   52:16.0    16.9  2010-01-05 16:52:16 UTC           -74.016048   \n",
       "2   35:00.0     5.7  2011-08-18 00:35:00 UTC           -73.982738   \n",
       "3   30:42.0     7.7  2012-04-21 04:30:42 UTC           -73.987130   \n",
       "4   51:00.0     5.3  2010-03-09 07:51:00 UTC           -73.968095   \n",
       "\n",
       "   latitude_of_pickup  longitude_of_dropoff  latitude_of_dropoff  \\\n",
       "0           40.721319            -73.841610            40.712278   \n",
       "1           40.711303            -73.979268            40.782004   \n",
       "2           40.761270            -73.991242            40.750562   \n",
       "3           40.733143            -73.991567            40.758092   \n",
       "4           40.768008            -73.956655            40.783762   \n",
       "\n",
       "   no_of_passenger  Distance  \n",
       "0                1  1.030764  \n",
       "1                1  8.450134  \n",
       "2                2  1.389525  \n",
       "3                1  2.799270  \n",
       "4                1  1.999157  "
      ]
     },
     "execution_count": 39,
     "metadata": {},
     "output_type": "execute_result"
    }
   ],
   "source": [
    "train_set.head()"
   ]
  },
  {
   "cell_type": "code",
   "execution_count": 40,
   "id": "0e6a8f4f",
   "metadata": {},
   "outputs": [
    {
     "data": {
      "text/html": [
       "<div>\n",
       "<style scoped>\n",
       "    .dataframe tbody tr th:only-of-type {\n",
       "        vertical-align: middle;\n",
       "    }\n",
       "\n",
       "    .dataframe tbody tr th {\n",
       "        vertical-align: top;\n",
       "    }\n",
       "\n",
       "    .dataframe thead th {\n",
       "        text-align: right;\n",
       "    }\n",
       "</style>\n",
       "<table border=\"1\" class=\"dataframe\">\n",
       "  <thead>\n",
       "    <tr style=\"text-align: right;\">\n",
       "      <th></th>\n",
       "      <th>amount</th>\n",
       "      <th>longitude_of_pickup</th>\n",
       "      <th>latitude_of_pickup</th>\n",
       "      <th>longitude_of_dropoff</th>\n",
       "      <th>latitude_of_dropoff</th>\n",
       "      <th>no_of_passenger</th>\n",
       "      <th>Distance</th>\n",
       "    </tr>\n",
       "  </thead>\n",
       "  <tbody>\n",
       "    <tr>\n",
       "      <th>count</th>\n",
       "      <td>49993.000000</td>\n",
       "      <td>49993.000000</td>\n",
       "      <td>49993.000000</td>\n",
       "      <td>49993.000000</td>\n",
       "      <td>49993.000000</td>\n",
       "      <td>49993.000000</td>\n",
       "      <td>49993.000000</td>\n",
       "    </tr>\n",
       "    <tr>\n",
       "      <th>mean</th>\n",
       "      <td>11.366065</td>\n",
       "      <td>-72.509558</td>\n",
       "      <td>39.926441</td>\n",
       "      <td>-72.505893</td>\n",
       "      <td>39.926952</td>\n",
       "      <td>1.667874</td>\n",
       "      <td>18.337855</td>\n",
       "    </tr>\n",
       "    <tr>\n",
       "      <th>std</th>\n",
       "      <td>9.684873</td>\n",
       "      <td>10.394574</td>\n",
       "      <td>6.012083</td>\n",
       "      <td>10.403233</td>\n",
       "      <td>6.012500</td>\n",
       "      <td>1.289222</td>\n",
       "      <td>353.488617</td>\n",
       "    </tr>\n",
       "    <tr>\n",
       "      <th>min</th>\n",
       "      <td>0.000000</td>\n",
       "      <td>-75.423848</td>\n",
       "      <td>-74.006893</td>\n",
       "      <td>-84.654241</td>\n",
       "      <td>-74.006377</td>\n",
       "      <td>0.000000</td>\n",
       "      <td>0.000000</td>\n",
       "    </tr>\n",
       "    <tr>\n",
       "      <th>25%</th>\n",
       "      <td>6.000000</td>\n",
       "      <td>-73.992062</td>\n",
       "      <td>40.734882</td>\n",
       "      <td>-73.991152</td>\n",
       "      <td>40.734375</td>\n",
       "      <td>1.000000</td>\n",
       "      <td>1.223337</td>\n",
       "    </tr>\n",
       "    <tr>\n",
       "      <th>50%</th>\n",
       "      <td>8.500000</td>\n",
       "      <td>-73.981840</td>\n",
       "      <td>40.752679</td>\n",
       "      <td>-73.980083</td>\n",
       "      <td>40.753372</td>\n",
       "      <td>1.000000</td>\n",
       "      <td>2.120196</td>\n",
       "    </tr>\n",
       "    <tr>\n",
       "      <th>75%</th>\n",
       "      <td>12.500000</td>\n",
       "      <td>-73.967155</td>\n",
       "      <td>40.767360</td>\n",
       "      <td>-73.963587</td>\n",
       "      <td>40.768167</td>\n",
       "      <td>2.000000</td>\n",
       "      <td>3.895481</td>\n",
       "    </tr>\n",
       "    <tr>\n",
       "      <th>max</th>\n",
       "      <td>200.000000</td>\n",
       "      <td>40.783472</td>\n",
       "      <td>43.098708</td>\n",
       "      <td>40.851027</td>\n",
       "      <td>43.415190</td>\n",
       "      <td>6.000000</td>\n",
       "      <td>8667.818812</td>\n",
       "    </tr>\n",
       "  </tbody>\n",
       "</table>\n",
       "</div>"
      ],
      "text/plain": [
       "             amount  longitude_of_pickup  latitude_of_pickup  \\\n",
       "count  49993.000000         49993.000000        49993.000000   \n",
       "mean      11.366065           -72.509558           39.926441   \n",
       "std        9.684873            10.394574            6.012083   \n",
       "min        0.000000           -75.423848          -74.006893   \n",
       "25%        6.000000           -73.992062           40.734882   \n",
       "50%        8.500000           -73.981840           40.752679   \n",
       "75%       12.500000           -73.967155           40.767360   \n",
       "max      200.000000            40.783472           43.098708   \n",
       "\n",
       "       longitude_of_dropoff  latitude_of_dropoff  no_of_passenger  \\\n",
       "count          49993.000000         49993.000000     49993.000000   \n",
       "mean             -72.505893            39.926952         1.667874   \n",
       "std               10.403233             6.012500         1.289222   \n",
       "min              -84.654241           -74.006377         0.000000   \n",
       "25%              -73.991152            40.734375         1.000000   \n",
       "50%              -73.980083            40.753372         1.000000   \n",
       "75%              -73.963587            40.768167         2.000000   \n",
       "max               40.851027            43.415190         6.000000   \n",
       "\n",
       "           Distance  \n",
       "count  49993.000000  \n",
       "mean      18.337855  \n",
       "std      353.488617  \n",
       "min        0.000000  \n",
       "25%        1.223337  \n",
       "50%        2.120196  \n",
       "75%        3.895481  \n",
       "max     8667.818812  "
      ]
     },
     "execution_count": 40,
     "metadata": {},
     "output_type": "execute_result"
    }
   ],
   "source": [
    "train_set.describe()"
   ]
  },
  {
   "cell_type": "code",
   "execution_count": 41,
   "id": "db382704",
   "metadata": {},
   "outputs": [
    {
     "data": {
      "text/plain": [
       "unique_id                object\n",
       "amount                  float64\n",
       "date_time_of_pickup      object\n",
       "longitude_of_pickup     float64\n",
       "latitude_of_pickup      float64\n",
       "longitude_of_dropoff    float64\n",
       "latitude_of_dropoff     float64\n",
       "no_of_passenger           int64\n",
       "Distance                float64\n",
       "dtype: object"
      ]
     },
     "execution_count": 41,
     "metadata": {},
     "output_type": "execute_result"
    }
   ],
   "source": [
    "train_set.dtypes"
   ]
  },
  {
   "cell_type": "code",
   "execution_count": 42,
   "id": "0cc7ede9",
   "metadata": {},
   "outputs": [
    {
     "data": {
      "text/html": [
       "<div>\n",
       "<style scoped>\n",
       "    .dataframe tbody tr th:only-of-type {\n",
       "        vertical-align: middle;\n",
       "    }\n",
       "\n",
       "    .dataframe tbody tr th {\n",
       "        vertical-align: top;\n",
       "    }\n",
       "\n",
       "    .dataframe thead th {\n",
       "        text-align: right;\n",
       "    }\n",
       "</style>\n",
       "<table border=\"1\" class=\"dataframe\">\n",
       "  <thead>\n",
       "    <tr style=\"text-align: right;\">\n",
       "      <th></th>\n",
       "      <th>unique_id</th>\n",
       "      <th>amount</th>\n",
       "      <th>date_time_of_pickup</th>\n",
       "      <th>longitude_of_pickup</th>\n",
       "      <th>latitude_of_pickup</th>\n",
       "      <th>longitude_of_dropoff</th>\n",
       "      <th>latitude_of_dropoff</th>\n",
       "      <th>no_of_passenger</th>\n",
       "      <th>Distance</th>\n",
       "    </tr>\n",
       "  </thead>\n",
       "  <tbody>\n",
       "    <tr>\n",
       "      <th>31419</th>\n",
       "      <td>54:00.0</td>\n",
       "      <td>4.5</td>\n",
       "      <td>2011-08-05 22:54:00 UTC</td>\n",
       "      <td>-73.966232</td>\n",
       "      <td>40.756073</td>\n",
       "      <td>-73.974018</td>\n",
       "      <td>40.751165</td>\n",
       "      <td>1</td>\n",
       "      <td>0.853205</td>\n",
       "    </tr>\n",
       "    <tr>\n",
       "      <th>37658</th>\n",
       "      <td>48:18.0</td>\n",
       "      <td>4.5</td>\n",
       "      <td>2013-01-03 06:48:18 UTC</td>\n",
       "      <td>-73.976389</td>\n",
       "      <td>40.755492</td>\n",
       "      <td>-73.985983</td>\n",
       "      <td>40.757071</td>\n",
       "      <td>1</td>\n",
       "      <td>0.826951</td>\n",
       "    </tr>\n",
       "    <tr>\n",
       "      <th>24950</th>\n",
       "      <td>38:00.0</td>\n",
       "      <td>5.0</td>\n",
       "      <td>2012-09-26 11:38:00 UTC</td>\n",
       "      <td>-73.957280</td>\n",
       "      <td>40.800222</td>\n",
       "      <td>-73.949778</td>\n",
       "      <td>40.793720</td>\n",
       "      <td>1</td>\n",
       "      <td>0.959952</td>\n",
       "    </tr>\n",
       "    <tr>\n",
       "      <th>17068</th>\n",
       "      <td>12:00.0</td>\n",
       "      <td>10.1</td>\n",
       "      <td>2009-04-25 01:12:00 UTC</td>\n",
       "      <td>-73.994217</td>\n",
       "      <td>40.726452</td>\n",
       "      <td>-73.985068</td>\n",
       "      <td>40.760848</td>\n",
       "      <td>2</td>\n",
       "      <td>3.901551</td>\n",
       "    </tr>\n",
       "    <tr>\n",
       "      <th>5392</th>\n",
       "      <td>54:00.0</td>\n",
       "      <td>4.5</td>\n",
       "      <td>2011-11-05 12:54:00 UTC</td>\n",
       "      <td>-73.979552</td>\n",
       "      <td>40.766448</td>\n",
       "      <td>-73.985712</td>\n",
       "      <td>40.761210</td>\n",
       "      <td>5</td>\n",
       "      <td>0.779989</td>\n",
       "    </tr>\n",
       "  </tbody>\n",
       "</table>\n",
       "</div>"
      ],
      "text/plain": [
       "      unique_id  amount      date_time_of_pickup  longitude_of_pickup  \\\n",
       "31419   54:00.0     4.5  2011-08-05 22:54:00 UTC           -73.966232   \n",
       "37658   48:18.0     4.5  2013-01-03 06:48:18 UTC           -73.976389   \n",
       "24950   38:00.0     5.0  2012-09-26 11:38:00 UTC           -73.957280   \n",
       "17068   12:00.0    10.1  2009-04-25 01:12:00 UTC           -73.994217   \n",
       "5392    54:00.0     4.5  2011-11-05 12:54:00 UTC           -73.979552   \n",
       "\n",
       "       latitude_of_pickup  longitude_of_dropoff  latitude_of_dropoff  \\\n",
       "31419           40.756073            -73.974018            40.751165   \n",
       "37658           40.755492            -73.985983            40.757071   \n",
       "24950           40.800222            -73.949778            40.793720   \n",
       "17068           40.726452            -73.985068            40.760848   \n",
       "5392            40.766448            -73.985712            40.761210   \n",
       "\n",
       "       no_of_passenger  Distance  \n",
       "31419                1  0.853205  \n",
       "37658                1  0.826951  \n",
       "24950                1  0.959952  \n",
       "17068                2  3.901551  \n",
       "5392                 5  0.779989  "
      ]
     },
     "execution_count": 42,
     "metadata": {},
     "output_type": "execute_result"
    }
   ],
   "source": [
    "dev_set.head()"
   ]
  },
  {
   "cell_type": "markdown",
   "id": "2c55b923",
   "metadata": {},
   "source": [
    "## Correlation"
   ]
  },
  {
   "cell_type": "code",
   "execution_count": 43,
   "id": "2c4c4cda",
   "metadata": {},
   "outputs": [
    {
     "data": {
      "image/png": "[encoded data removed]",
      "text/plain": [
       "<Figure size 1000x1000 with 2 Axes>"
      ]
     },
     "metadata": {},
     "output_type": "display_data"
    }
   ],
   "source": [
    "#get correlations of each features in dataset\n",
    "corrmat = train_set.corr()\n",
    "top_corr_features = corrmat.index\n",
    "plt.figure(figsize=(10,10))\n",
    "#plot heat map\n",
    "g=sns.heatmap(train_set[top_corr_features].corr(),annot=True,cmap=\"Reds\")"
   ]
  },
  {
   "cell_type": "code",
   "execution_count": 44,
   "id": "82c26b71",
   "metadata": {},
   "outputs": [],
   "source": [
    "X = train_set.drop([\"amount\",\"unique_id\",\"date_time_of_pickup\",\"longitude_of_pickup\",\"latitude_of_pickup\",\"longitude_of_dropoff\",\"latitude_of_dropoff\"],axis=1)\n",
    "Y = train_set[[\"amount\",]]\n",
    "\n",
    "#X_train = train_set[['longitude_of_pickup', 'latitude_of_pickup','longitude_of_dropoff', 'latitude_of_dropoff','no_of_passenger']]\n",
    "\n",
    "X_train,X_test,Y_train,Y_test = train_test_split(X, Y, random_state=42, test_size = 0.30)\n",
    "\n",
    "#X_train = train_set[['no_of_passenger', 'Distance']]\n",
    "#Y_train = train_set['amount']\n",
    "    "
   ]
  },
  {
   "cell_type": "markdown",
   "id": "38fbb812",
   "metadata": {},
   "source": [
    "# SUPPORT VECTOR REGRESSION"
   ]
  },
  {
   "cell_type": "code",
   "execution_count": 45,
   "id": "8ac5bdfb",
   "metadata": {},
   "outputs": [
    {
     "name": "stdout",
     "output_type": "stream",
     "text": [
      "The train set score: 0.3303541289710502\n",
      "The Test set score: 0.3530713737222444\n"
     ]
    }
   ],
   "source": [
    "from sklearn.svm import SVR\n",
    "model_svr=SVR()\n",
    "model_svr.fit(X_train,Y_train)\n",
    "\n",
    "\n",
    "print(\"The train set score:\",model_svr.score(X_train,Y_train))\n",
    "\n",
    "print(\"The Test set score:\",model_svr.score(X_test,Y_test))\n"
   ]
  },
  {
   "cell_type": "markdown",
   "id": "824b8dde",
   "metadata": {},
   "source": [
    "# Predicted values"
   ]
  },
  {
   "cell_type": "code",
   "execution_count": 46,
   "id": "9be0d531",
   "metadata": {},
   "outputs": [
    {
     "name": "stdout",
     "output_type": "stream",
     "text": [
      "Predicted output:  [8.91379019 7.02776403 7.95919518 ... 7.33322353 7.22829143 7.86240142]\n",
      "(14998,)\n",
      "(14998, 1)\n"
     ]
    }
   ],
   "source": [
    "Y_predict_svr = model_svr.predict(X_test)\n",
    "print(\"Predicted output: \",Y_predict_svr)\n",
    "print(Y_predict_svr.shape)\n",
    "print(Y_test.shape)\n"
   ]
  },
  {
   "cell_type": "code",
   "execution_count": 47,
   "id": "2479ced6",
   "metadata": {},
   "outputs": [
    {
     "name": "stdout",
     "output_type": "stream",
     "text": [
      "0.3303541289710502\n"
     ]
    }
   ],
   "source": [
    "svr_score = model_svr.score(X_train,Y_train)\n",
    "print(svr_score)"
   ]
  },
  {
   "cell_type": "markdown",
   "id": "ef58350e",
   "metadata": {},
   "source": [
    "## Creating an empty dataframe for storing the scores"
   ]
  },
  {
   "cell_type": "code",
   "execution_count": 48,
   "id": "4fcd1ff9",
   "metadata": {},
   "outputs": [],
   "source": [
    "Data = pd.DataFrame()"
   ]
  },
  {
   "cell_type": "code",
   "execution_count": 49,
   "id": "da1a7ed2",
   "metadata": {},
   "outputs": [
    {
     "data": {
      "text/html": [
       "<div>\n",
       "<style scoped>\n",
       "    .dataframe tbody tr th:only-of-type {\n",
       "        vertical-align: middle;\n",
       "    }\n",
       "\n",
       "    .dataframe tbody tr th {\n",
       "        vertical-align: top;\n",
       "    }\n",
       "\n",
       "    .dataframe thead th {\n",
       "        text-align: right;\n",
       "    }\n",
       "</style>\n",
       "<table border=\"1\" class=\"dataframe\">\n",
       "  <thead>\n",
       "    <tr style=\"text-align: right;\">\n",
       "      <th></th>\n",
       "      <th>Models</th>\n",
       "      <th>Accuracy</th>\n",
       "    </tr>\n",
       "  </thead>\n",
       "  <tbody>\n",
       "    <tr>\n",
       "      <th>0</th>\n",
       "      <td>Support Vector Regression model</td>\n",
       "      <td>0.330354</td>\n",
       "    </tr>\n",
       "  </tbody>\n",
       "</table>\n",
       "</div>"
      ],
      "text/plain": [
       "                            Models  Accuracy\n",
       "0  Support Vector Regression model  0.330354"
      ]
     },
     "execution_count": 49,
     "metadata": {},
     "output_type": "execute_result"
    }
   ],
   "source": [
    "Data_model = pd.DataFrame({'Models': ['Support Vector Regression model'], 'Accuracy':[svr_score]})\n",
    "Data = pd.concat( [Data,Data_model])\n",
    "Data = Data[['Models', 'Accuracy']]\n",
    "Data"
   ]
  },
  {
   "cell_type": "markdown",
   "id": "d699fa9e",
   "metadata": {},
   "source": [
    "# DECISION TREE REGRESSOR"
   ]
  },
  {
   "cell_type": "code",
   "execution_count": 50,
   "id": "358cd25e",
   "metadata": {},
   "outputs": [
    {
     "name": "stdout",
     "output_type": "stream",
     "text": [
      "The train score: 0.7299019560747211\n",
      "The Test score: 0.7299037044109515\n"
     ]
    }
   ],
   "source": [
    "from sklearn import tree\n",
    "modelTreeReg = tree.DecisionTreeRegressor(max_depth=6,min_samples_leaf=8)\n",
    "modelTreeReg.fit(X_train, Y_train)\n",
    "\n",
    "\n",
    "ScoreTreeReg=modelTreeReg.score(X_train,Y_train)\n",
    "print(\"The train score:\",ScoreTreeReg)\n",
    "\n",
    "TestscoreTreeReg=modelTreeReg.score(X_test,Y_test)\n",
    "print(\"The Test score:\",TestscoreTreeReg)\n",
    "\n",
    "# if the difference between the train score and test score is less than 0.5 it is a overfitting model"
   ]
  },
  {
   "cell_type": "markdown",
   "id": "f38a5cd8",
   "metadata": {},
   "source": [
    "# Predicted values"
   ]
  },
  {
   "cell_type": "code",
   "execution_count": 51,
   "id": "f661aa2f",
   "metadata": {},
   "outputs": [
    {
     "name": "stdout",
     "output_type": "stream",
     "text": [
      "Predicted output:  [10.10340213  5.19351653  7.72275432 ...  6.00343771  5.19351653\n",
      "  7.72275432]\n"
     ]
    }
   ],
   "source": [
    "predictTreeReg = modelTreeReg.predict(X_test)\n",
    "print(\"Predicted output: \",predictTreeReg)"
   ]
  },
  {
   "cell_type": "code",
   "execution_count": 52,
   "id": "7a1d358c",
   "metadata": {},
   "outputs": [
    {
     "name": "stdout",
     "output_type": "stream",
     "text": [
      "0.7299019560747211\n"
     ]
    }
   ],
   "source": [
    "tree_score = modelTreeReg.score(X_train,Y_train)\n",
    "print(tree_score)"
   ]
  },
  {
   "cell_type": "code",
   "execution_count": 53,
   "id": "aaeb7f14",
   "metadata": {},
   "outputs": [
    {
     "data": {
      "text/html": [
       "<div>\n",
       "<style scoped>\n",
       "    .dataframe tbody tr th:only-of-type {\n",
       "        vertical-align: middle;\n",
       "    }\n",
       "\n",
       "    .dataframe tbody tr th {\n",
       "        vertical-align: top;\n",
       "    }\n",
       "\n",
       "    .dataframe thead th {\n",
       "        text-align: right;\n",
       "    }\n",
       "</style>\n",
       "<table border=\"1\" class=\"dataframe\">\n",
       "  <thead>\n",
       "    <tr style=\"text-align: right;\">\n",
       "      <th></th>\n",
       "      <th>Models</th>\n",
       "      <th>Accuracy</th>\n",
       "    </tr>\n",
       "  </thead>\n",
       "  <tbody>\n",
       "    <tr>\n",
       "      <th>0</th>\n",
       "      <td>Support Vector Regression model</td>\n",
       "      <td>0.330354</td>\n",
       "    </tr>\n",
       "    <tr>\n",
       "      <th>0</th>\n",
       "      <td>Decision Tree Regression model</td>\n",
       "      <td>0.729902</td>\n",
       "    </tr>\n",
       "  </tbody>\n",
       "</table>\n",
       "</div>"
      ],
      "text/plain": [
       "                            Models  Accuracy\n",
       "0  Support Vector Regression model  0.330354\n",
       "0   Decision Tree Regression model  0.729902"
      ]
     },
     "execution_count": 53,
     "metadata": {},
     "output_type": "execute_result"
    }
   ],
   "source": [
    "Data_model = pd.DataFrame({'Models': ['Decision Tree Regression model'], 'Accuracy':[tree_score]})\n",
    "Data = pd.concat( [Data,Data_model])\n",
    "Data = Data[['Models', 'Accuracy']]\n",
    "Data"
   ]
  },
  {
   "cell_type": "markdown",
   "id": "a03cf52d",
   "metadata": {},
   "source": [
    "# Mean squared error "
   ]
  },
  {
   "cell_type": "markdown",
   "id": "8d2adcd3",
   "metadata": {},
   "source": [
    "MSE of DECISION TREE REGRESSOR"
   ]
  },
  {
   "cell_type": "code",
   "execution_count": 54,
   "id": "34c4abc3",
   "metadata": {},
   "outputs": [
    {
     "name": "stdout",
     "output_type": "stream",
     "text": [
      "Mean Squared error:  5.067089044771467\n"
     ]
    }
   ],
   "source": [
    "tree_mse = mean_squared_error(Y_test, predictTreeReg)\n",
    "treeRMSE = np.sqrt(tree_mse)\n",
    "print(\"Mean Squared error: \",treeRMSE)"
   ]
  },
  {
   "cell_type": "markdown",
   "id": "cb6d4ef2",
   "metadata": {},
   "source": [
    "# Bagging model"
   ]
  },
  {
   "cell_type": "code",
   "execution_count": 55,
   "id": "bdc5ae29",
   "metadata": {},
   "outputs": [
    {
     "name": "stdout",
     "output_type": "stream",
     "text": [
      "The train set score: 0.4753703201098174\n",
      "The Test set score: 0.39050077959974305\n"
     ]
    }
   ],
   "source": [
    "from sklearn.ensemble import BaggingRegressor\n",
    "\n",
    "model_bag=BaggingRegressor(n_estimators=9,max_features=1,max_samples=1.0, random_state=0)\n",
    "model_bag.fit(X_train,Y_train)\n",
    "\n",
    "print(\"The train set score:\",model_bag.score(X_train,Y_train))\n",
    "\n",
    "print(\"The Test set score:\",model_bag.score(X_test,Y_test))\n"
   ]
  },
  {
   "cell_type": "markdown",
   "id": "b433cdd5",
   "metadata": {},
   "source": [
    "# Predicted values"
   ]
  },
  {
   "cell_type": "code",
   "execution_count": 56,
   "id": "0b677dc6",
   "metadata": {},
   "outputs": [
    {
     "name": "stdout",
     "output_type": "stream",
     "text": [
      "Predicted output:  [11.16641304  8.70151434  9.8570699  ...  8.99040323 10.32373657\n",
      "  9.99040323]\n",
      "(14998,)\n",
      "(14998, 1)\n"
     ]
    }
   ],
   "source": [
    "Y_predict_bag = model_bag.predict(X_test)\n",
    "print(\"Predicted output: \",Y_predict_bag)\n",
    "print(Y_predict_bag.shape)\n",
    "print(Y_test.shape)"
   ]
  },
  {
   "cell_type": "code",
   "execution_count": 57,
   "id": "c64fc86e",
   "metadata": {},
   "outputs": [
    {
     "name": "stdout",
     "output_type": "stream",
     "text": [
      "0.4753703201098174\n"
     ]
    }
   ],
   "source": [
    "bag_score = model_bag.score(X_train,Y_train)\n",
    "print(bag_score)"
   ]
  },
  {
   "cell_type": "code",
   "execution_count": 58,
   "id": "06c1b891",
   "metadata": {},
   "outputs": [
    {
     "data": {
      "text/html": [
       "<div>\n",
       "<style scoped>\n",
       "    .dataframe tbody tr th:only-of-type {\n",
       "        vertical-align: middle;\n",
       "    }\n",
       "\n",
       "    .dataframe tbody tr th {\n",
       "        vertical-align: top;\n",
       "    }\n",
       "\n",
       "    .dataframe thead th {\n",
       "        text-align: right;\n",
       "    }\n",
       "</style>\n",
       "<table border=\"1\" class=\"dataframe\">\n",
       "  <thead>\n",
       "    <tr style=\"text-align: right;\">\n",
       "      <th></th>\n",
       "      <th>Models</th>\n",
       "      <th>Accuracy</th>\n",
       "    </tr>\n",
       "  </thead>\n",
       "  <tbody>\n",
       "    <tr>\n",
       "      <th>0</th>\n",
       "      <td>Support Vector Regression model</td>\n",
       "      <td>0.330354</td>\n",
       "    </tr>\n",
       "    <tr>\n",
       "      <th>0</th>\n",
       "      <td>Decision Tree Regression model</td>\n",
       "      <td>0.729902</td>\n",
       "    </tr>\n",
       "    <tr>\n",
       "      <th>0</th>\n",
       "      <td>Bagging model</td>\n",
       "      <td>0.475370</td>\n",
       "    </tr>\n",
       "  </tbody>\n",
       "</table>\n",
       "</div>"
      ],
      "text/plain": [
       "                            Models  Accuracy\n",
       "0  Support Vector Regression model  0.330354\n",
       "0   Decision Tree Regression model  0.729902\n",
       "0                    Bagging model  0.475370"
      ]
     },
     "execution_count": 58,
     "metadata": {},
     "output_type": "execute_result"
    }
   ],
   "source": [
    "Data_model = pd.DataFrame({'Models': ['Bagging model'], 'Accuracy':[bag_score]})\n",
    "Data = pd.concat( [Data,Data_model])\n",
    "Data = Data[['Models', 'Accuracy']]\n",
    "Data"
   ]
  },
  {
   "cell_type": "markdown",
   "id": "af4ef014",
   "metadata": {},
   "source": [
    "# Linear Regression"
   ]
  },
  {
   "cell_type": "code",
   "execution_count": 59,
   "id": "a53bde23",
   "metadata": {},
   "outputs": [
    {
     "name": "stdout",
     "output_type": "stream",
     "text": [
      "The train set score: 0.0005397763863843608\n",
      "The Test set score: 0.000530087249452027\n",
      "       no_of_passenger  Distance\n",
      "31419                1  0.853205\n",
      "37658                1  0.826951\n",
      "24950                1  0.959952\n",
      "17068                2  3.901551\n",
      "5392                 5  0.779989\n"
     ]
    }
   ],
   "source": [
    "from sklearn.linear_model import LinearRegression\n",
    "reg = LinearRegression()\n",
    "\n",
    "\n",
    "\n",
    "reg.fit(X_train,Y_train)\n",
    "\n",
    "print(\"The train set score:\",reg.score(X_train,Y_train))\n",
    "\n",
    "print(\"The Test set score:\",reg.score(X_test,Y_test))\n",
    "\n",
    "\n",
    "\n",
    "#X_test = dev_set[['longitude_of_pickup', 'latitude_of_pickup','longitude_of_dropoff', 'latitude_of_dropoff','no_of_passenger']]\n",
    "\n",
    "X_dev = dev_set[['no_of_passenger', 'Distance']]\n",
    "Y_dev = dev_set['amount']\n",
    "print(X_dev.head())"
   ]
  },
  {
   "cell_type": "code",
   "execution_count": 60,
   "id": "73456bee",
   "metadata": {},
   "outputs": [
    {
     "data": {
      "text/html": [
       "<div>\n",
       "<style scoped>\n",
       "    .dataframe tbody tr th:only-of-type {\n",
       "        vertical-align: middle;\n",
       "    }\n",
       "\n",
       "    .dataframe tbody tr th {\n",
       "        vertical-align: top;\n",
       "    }\n",
       "\n",
       "    .dataframe thead th {\n",
       "        text-align: right;\n",
       "    }\n",
       "</style>\n",
       "<table border=\"1\" class=\"dataframe\">\n",
       "  <thead>\n",
       "    <tr style=\"text-align: right;\">\n",
       "      <th></th>\n",
       "      <th>no_of_passenger</th>\n",
       "      <th>Distance</th>\n",
       "    </tr>\n",
       "  </thead>\n",
       "  <tbody>\n",
       "    <tr>\n",
       "      <th>674</th>\n",
       "      <td>2</td>\n",
       "      <td>4.140762</td>\n",
       "    </tr>\n",
       "    <tr>\n",
       "      <th>4341</th>\n",
       "      <td>1</td>\n",
       "      <td>3.642009</td>\n",
       "    </tr>\n",
       "    <tr>\n",
       "      <th>20486</th>\n",
       "      <td>2</td>\n",
       "      <td>1.331995</td>\n",
       "    </tr>\n",
       "    <tr>\n",
       "      <th>14115</th>\n",
       "      <td>5</td>\n",
       "      <td>0.000000</td>\n",
       "    </tr>\n",
       "    <tr>\n",
       "      <th>3828</th>\n",
       "      <td>1</td>\n",
       "      <td>3.206763</td>\n",
       "    </tr>\n",
       "  </tbody>\n",
       "</table>\n",
       "</div>"
      ],
      "text/plain": [
       "       no_of_passenger  Distance\n",
       "674                  2  4.140762\n",
       "4341                 1  3.642009\n",
       "20486                2  1.331995\n",
       "14115                5  0.000000\n",
       "3828                 1  3.206763"
      ]
     },
     "execution_count": 60,
     "metadata": {},
     "output_type": "execute_result"
    }
   ],
   "source": [
    "X_train.head()"
   ]
  },
  {
   "cell_type": "markdown",
   "id": "dc3b1875",
   "metadata": {},
   "source": [
    "# Coefficients of Multivariate Regression"
   ]
  },
  {
   "cell_type": "code",
   "execution_count": 61,
   "id": "c930ebdb",
   "metadata": {},
   "outputs": [
    {
     "data": {
      "text/plain": [
       "array([[0.13729979, 0.0003797 ]])"
      ]
     },
     "execution_count": 61,
     "metadata": {},
     "output_type": "execute_result"
    }
   ],
   "source": [
    "reg.coef_"
   ]
  },
  {
   "cell_type": "markdown",
   "id": "cd977272",
   "metadata": {},
   "source": [
    "# Intercept"
   ]
  },
  {
   "cell_type": "code",
   "execution_count": 62,
   "id": "38d182e1",
   "metadata": {},
   "outputs": [
    {
     "data": {
      "text/plain": [
       "array([11.12466745])"
      ]
     },
     "execution_count": 62,
     "metadata": {},
     "output_type": "execute_result"
    }
   ],
   "source": [
    "reg.intercept_"
   ]
  },
  {
   "cell_type": "markdown",
   "id": "417a8555",
   "metadata": {},
   "source": [
    "# Predicted values of amount"
   ]
  },
  {
   "cell_type": "code",
   "execution_count": 63,
   "id": "e4c1bbe9",
   "metadata": {},
   "outputs": [
    {
     "name": "stdout",
     "output_type": "stream",
     "text": [
      "Predicted output:  [[11.4003645 ]\n",
      " [11.26220473]\n",
      " [11.26263149]\n",
      " ...\n",
      " [11.26234469]\n",
      " [11.26229662]\n",
      " [11.26258715]]\n",
      "(14998, 1)\n",
      "(14998, 1)\n"
     ]
    }
   ],
   "source": [
    "Y_predictions = reg.predict(X_test)\n",
    "\n",
    "print(\"Predicted output: \",Y_predictions)\n",
    "print(Y_predictions.shape)\n",
    "print(Y_test.shape)"
   ]
  },
  {
   "cell_type": "markdown",
   "id": "71d38cd7",
   "metadata": {},
   "source": [
    "# Plot the values of Actual and Predicted Values"
   ]
  },
  {
   "cell_type": "code",
   "execution_count": 64,
   "id": "0dd24664",
   "metadata": {},
   "outputs": [
    {
     "data": {
      "text/plain": [
       "(1.0, 10000.0)"
      ]
     },
     "execution_count": 64,
     "metadata": {},
     "output_type": "execute_result"
    },
    {
     "data": {
      "image/png": "[encoded data removed]",
      "text/plain": [
       "<Figure size 640x480 with 1 Axes>"
      ]
     },
     "metadata": {},
     "output_type": "display_data"
    }
   ],
   "source": [
    "train_set.head()\n",
    "#print(main_set.iloc[:,0:1].shape)\n",
    "#print(Y_predictions)\n",
    "Y_dev=np.asarray(dev_set['amount'])\n",
    "#print(Y_predictions.shape)\n",
    "#print(Y_test.shape)\n",
    "\n",
    "plt.plot(Y_dev, color = 'blue')\n",
    "plt.plot(Y_predictions, color = 'red')\n",
    "plt.xlim(1,10000)"
   ]
  },
  {
   "cell_type": "markdown",
   "id": "3c7f7e23",
   "metadata": {},
   "source": [
    "# RSME"
   ]
  },
  {
   "cell_type": "code",
   "execution_count": 65,
   "id": "dc57b5d8",
   "metadata": {},
   "outputs": [
    {
     "name": "stdout",
     "output_type": "stream",
     "text": [
      "9.74729443378838\n"
     ]
    }
   ],
   "source": [
    "from sklearn.metrics import mean_squared_error\n",
    "from math import sqrt\n",
    "\n",
    "rmse = sqrt(mean_squared_error(Y_test, Y_predictions))\n",
    "print(rmse)"
   ]
  },
  {
   "cell_type": "code",
   "execution_count": 66,
   "id": "e7768cc5",
   "metadata": {},
   "outputs": [
    {
     "name": "stdout",
     "output_type": "stream",
     "text": [
      "0.0005397763863843608\n"
     ]
    }
   ],
   "source": [
    "linear_score = reg.score(X_train, Y_train)\n",
    "print(linear_score)"
   ]
  },
  {
   "cell_type": "code",
   "execution_count": 67,
   "id": "2bc5ee44",
   "metadata": {},
   "outputs": [
    {
     "data": {
      "text/html": [
       "<div>\n",
       "<style scoped>\n",
       "    .dataframe tbody tr th:only-of-type {\n",
       "        vertical-align: middle;\n",
       "    }\n",
       "\n",
       "    .dataframe tbody tr th {\n",
       "        vertical-align: top;\n",
       "    }\n",
       "\n",
       "    .dataframe thead th {\n",
       "        text-align: right;\n",
       "    }\n",
       "</style>\n",
       "<table border=\"1\" class=\"dataframe\">\n",
       "  <thead>\n",
       "    <tr style=\"text-align: right;\">\n",
       "      <th></th>\n",
       "      <th>Models</th>\n",
       "      <th>Accuracy</th>\n",
       "    </tr>\n",
       "  </thead>\n",
       "  <tbody>\n",
       "    <tr>\n",
       "      <th>0</th>\n",
       "      <td>Support Vector Regression model</td>\n",
       "      <td>0.330354</td>\n",
       "    </tr>\n",
       "    <tr>\n",
       "      <th>0</th>\n",
       "      <td>Decision Tree Regression model</td>\n",
       "      <td>0.729902</td>\n",
       "    </tr>\n",
       "    <tr>\n",
       "      <th>0</th>\n",
       "      <td>Bagging model</td>\n",
       "      <td>0.475370</td>\n",
       "    </tr>\n",
       "    <tr>\n",
       "      <th>0</th>\n",
       "      <td>linear Regression Model</td>\n",
       "      <td>0.000540</td>\n",
       "    </tr>\n",
       "  </tbody>\n",
       "</table>\n",
       "</div>"
      ],
      "text/plain": [
       "                            Models  Accuracy\n",
       "0  Support Vector Regression model  0.330354\n",
       "0   Decision Tree Regression model  0.729902\n",
       "0                    Bagging model  0.475370\n",
       "0          linear Regression Model  0.000540"
      ]
     },
     "execution_count": 67,
     "metadata": {},
     "output_type": "execute_result"
    }
   ],
   "source": [
    "Data_model = pd.DataFrame({'Models': ['linear Regression Model'], 'Accuracy':[linear_score]})\n",
    "Data = pd.concat( [Data,Data_model])\n",
    "Data = Data[['Models', 'Accuracy']]\n",
    "Data"
   ]
  },
  {
   "cell_type": "markdown",
   "id": "b7681f64",
   "metadata": {},
   "source": [
    "# Boosting model"
   ]
  },
  {
   "cell_type": "code",
   "execution_count": 68,
   "id": "a2fcc74e",
   "metadata": {},
   "outputs": [
    {
     "name": "stdout",
     "output_type": "stream",
     "text": [
      "AdaBoost model\n",
      "The train set score: 0.6628439296354238\n",
      "The Test set score: 0.6614296410746465\n",
      "\n",
      "GradientBoosting model\n",
      "The train set score: 0.7497674279460242\n",
      "The Test set score: 0.72387688523629\n"
     ]
    }
   ],
   "source": [
    "from sklearn.ensemble import AdaBoostRegressor\n",
    "from sklearn.ensemble import GradientBoostingRegressor\n",
    "\n",
    "model_boost=AdaBoostRegressor(n_estimators=50)\n",
    "model_grad=GradientBoostingRegressor()\n",
    "\n",
    "model_boost.fit(X_train,Y_train)\n",
    "model_grad.fit(X_train,Y_train)\n",
    "print(\"AdaBoost model\")\n",
    "print(\"The train set score:\",model_boost.score(X_train,Y_train))\n",
    "print(\"The Test set score:\",model_boost.score(X_test,Y_test))\n",
    "\n",
    "print( )\n",
    "print(\"GradientBoosting model\")\n",
    "print(\"The train set score:\",model_grad.score(X_train,Y_train))\n",
    "print(\"The Test set score:\",model_grad.score(X_test,Y_test))\n",
    "\n"
   ]
  },
  {
   "cell_type": "markdown",
   "id": "6deb2487",
   "metadata": {},
   "source": [
    "## Predicted values from adaboost model"
   ]
  },
  {
   "cell_type": "code",
   "execution_count": 69,
   "id": "6ab6c223",
   "metadata": {},
   "outputs": [
    {
     "name": "stdout",
     "output_type": "stream",
     "text": [
      "Predicted output:  [8.00700832 8.00700832 8.00700832 ... 8.00700832 8.00700832 8.00700832]\n",
      "(14998,)\n",
      "(14998, 1)\n"
     ]
    }
   ],
   "source": [
    "Y_predict_ada = model_boost.predict(X_test)\n",
    "\n",
    "print(\"Predicted output: \",Y_predict_ada)\n",
    "print(Y_predict_ada.shape)\n",
    "print(Y_test.shape)"
   ]
  },
  {
   "cell_type": "code",
   "execution_count": 70,
   "id": "3150f4de",
   "metadata": {},
   "outputs": [
    {
     "name": "stdout",
     "output_type": "stream",
     "text": [
      "0.6628439296354238\n"
     ]
    }
   ],
   "source": [
    "Ada_score = model_boost.score(X_train,Y_train)\n",
    "print(Ada_score)"
   ]
  },
  {
   "cell_type": "code",
   "execution_count": 71,
   "id": "f4da6e9f",
   "metadata": {},
   "outputs": [
    {
     "data": {
      "text/html": [
       "<div>\n",
       "<style scoped>\n",
       "    .dataframe tbody tr th:only-of-type {\n",
       "        vertical-align: middle;\n",
       "    }\n",
       "\n",
       "    .dataframe tbody tr th {\n",
       "        vertical-align: top;\n",
       "    }\n",
       "\n",
       "    .dataframe thead th {\n",
       "        text-align: right;\n",
       "    }\n",
       "</style>\n",
       "<table border=\"1\" class=\"dataframe\">\n",
       "  <thead>\n",
       "    <tr style=\"text-align: right;\">\n",
       "      <th></th>\n",
       "      <th>Models</th>\n",
       "      <th>Accuracy</th>\n",
       "    </tr>\n",
       "  </thead>\n",
       "  <tbody>\n",
       "    <tr>\n",
       "      <th>0</th>\n",
       "      <td>Support Vector Regression model</td>\n",
       "      <td>0.330354</td>\n",
       "    </tr>\n",
       "    <tr>\n",
       "      <th>0</th>\n",
       "      <td>Decision Tree Regression model</td>\n",
       "      <td>0.729902</td>\n",
       "    </tr>\n",
       "    <tr>\n",
       "      <th>0</th>\n",
       "      <td>Bagging model</td>\n",
       "      <td>0.475370</td>\n",
       "    </tr>\n",
       "    <tr>\n",
       "      <th>0</th>\n",
       "      <td>linear Regression Model</td>\n",
       "      <td>0.000540</td>\n",
       "    </tr>\n",
       "    <tr>\n",
       "      <th>0</th>\n",
       "      <td>Ada Boost model</td>\n",
       "      <td>0.662844</td>\n",
       "    </tr>\n",
       "  </tbody>\n",
       "</table>\n",
       "</div>"
      ],
      "text/plain": [
       "                            Models  Accuracy\n",
       "0  Support Vector Regression model  0.330354\n",
       "0   Decision Tree Regression model  0.729902\n",
       "0                    Bagging model  0.475370\n",
       "0          linear Regression Model  0.000540\n",
       "0                  Ada Boost model  0.662844"
      ]
     },
     "execution_count": 71,
     "metadata": {},
     "output_type": "execute_result"
    }
   ],
   "source": [
    "Data_model = pd.DataFrame({'Models': ['Ada Boost model'], 'Accuracy':[Ada_score]})\n",
    "Data = pd.concat( [Data,Data_model])\n",
    "Data = Data[['Models', 'Accuracy']]\n",
    "Data"
   ]
  },
  {
   "cell_type": "markdown",
   "id": "e80e3e3d",
   "metadata": {},
   "source": [
    "## Predicted values from Gradientboost model"
   ]
  },
  {
   "cell_type": "code",
   "execution_count": 72,
   "id": "439d91a0",
   "metadata": {},
   "outputs": [
    {
     "name": "stdout",
     "output_type": "stream",
     "text": [
      "Predicted output:  [10.0883511   4.94537461  7.57610701 ...  5.78494455  5.40008902\n",
      "  7.37780467]\n",
      "(14998,)\n",
      "(14998, 1)\n"
     ]
    }
   ],
   "source": [
    "Y_predict_Grad = model_grad.predict(X_test)\n",
    "\n",
    "print(\"Predicted output: \",Y_predict_Grad)\n",
    "print(Y_predict_Grad.shape)\n",
    "print(Y_test.shape)"
   ]
  },
  {
   "cell_type": "code",
   "execution_count": 73,
   "id": "448a8a24",
   "metadata": {},
   "outputs": [
    {
     "name": "stdout",
     "output_type": "stream",
     "text": [
      "0.7497674279460242\n"
     ]
    }
   ],
   "source": [
    "grad_score = model_grad.score(X_train,Y_train)\n",
    "print(grad_score)"
   ]
  },
  {
   "cell_type": "code",
   "execution_count": 74,
   "id": "fc5b7451",
   "metadata": {},
   "outputs": [
    {
     "data": {
      "text/html": [
       "<div>\n",
       "<style scoped>\n",
       "    .dataframe tbody tr th:only-of-type {\n",
       "        vertical-align: middle;\n",
       "    }\n",
       "\n",
       "    .dataframe tbody tr th {\n",
       "        vertical-align: top;\n",
       "    }\n",
       "\n",
       "    .dataframe thead th {\n",
       "        text-align: right;\n",
       "    }\n",
       "</style>\n",
       "<table border=\"1\" class=\"dataframe\">\n",
       "  <thead>\n",
       "    <tr style=\"text-align: right;\">\n",
       "      <th></th>\n",
       "      <th>Models</th>\n",
       "      <th>Accuracy</th>\n",
       "    </tr>\n",
       "  </thead>\n",
       "  <tbody>\n",
       "    <tr>\n",
       "      <th>0</th>\n",
       "      <td>Support Vector Regression model</td>\n",
       "      <td>0.330354</td>\n",
       "    </tr>\n",
       "    <tr>\n",
       "      <th>0</th>\n",
       "      <td>Decision Tree Regression model</td>\n",
       "      <td>0.729902</td>\n",
       "    </tr>\n",
       "    <tr>\n",
       "      <th>0</th>\n",
       "      <td>Bagging model</td>\n",
       "      <td>0.475370</td>\n",
       "    </tr>\n",
       "    <tr>\n",
       "      <th>0</th>\n",
       "      <td>linear Regression Model</td>\n",
       "      <td>0.000540</td>\n",
       "    </tr>\n",
       "    <tr>\n",
       "      <th>0</th>\n",
       "      <td>Ada Boost model</td>\n",
       "      <td>0.662844</td>\n",
       "    </tr>\n",
       "    <tr>\n",
       "      <th>0</th>\n",
       "      <td>Gradient Boosting model</td>\n",
       "      <td>0.749767</td>\n",
       "    </tr>\n",
       "  </tbody>\n",
       "</table>\n",
       "</div>"
      ],
      "text/plain": [
       "                            Models  Accuracy\n",
       "0  Support Vector Regression model  0.330354\n",
       "0   Decision Tree Regression model  0.729902\n",
       "0                    Bagging model  0.475370\n",
       "0          linear Regression Model  0.000540\n",
       "0                  Ada Boost model  0.662844\n",
       "0          Gradient Boosting model  0.749767"
      ]
     },
     "execution_count": 74,
     "metadata": {},
     "output_type": "execute_result"
    }
   ],
   "source": [
    "Data_model = pd.DataFrame({'Models': ['Gradient Boosting model'], 'Accuracy':[grad_score]})\n",
    "Data = pd.concat( [Data,Data_model])\n",
    "Data = Data[['Models', 'Accuracy']]\n",
    "Data"
   ]
  },
  {
   "cell_type": "markdown",
   "id": "207fe722",
   "metadata": {},
   "source": [
    "# RANDOM FOREST REGRESSOR"
   ]
  },
  {
   "cell_type": "code",
   "execution_count": 75,
   "id": "6600c61c",
   "metadata": {},
   "outputs": [
    {
     "name": "stdout",
     "output_type": "stream",
     "text": [
      "Training score:  0.7816549402806381\n",
      "Test score:  0.7142177621984562\n",
      "Predicted output:  [9.88734774 4.61937236 7.51857545 ... 5.62837601 5.22159786 7.91722778]\n",
      "Mean Squared error:  5.21214919528119\n"
     ]
    }
   ],
   "source": [
    "randomForest = RandomForestRegressor(n_estimators=10,random_state=0,min_samples_split=40)\n",
    "randomForest.fit(X_train, Y_train)\n",
    "\n",
    "#print(\"---------RANDOM FOREST----------\")\n",
    "print(\"Training score: \",randomForest.score(X_train,Y_train))\n",
    "print(\"Test score: \",randomForest.score(X_test,Y_test))\n",
    "\n",
    "randomForestPredict = randomForest.predict(X_test)\n",
    "print(\"Predicted output: \",randomForestPredict)\n",
    "randomForest_RMSE = np.sqrt(mean_squared_error(Y_test, randomForestPredict))\n",
    "print(\"Mean Squared error: \",randomForest_RMSE)\n"
   ]
  },
  {
   "cell_type": "markdown",
   "id": "4025bdbc",
   "metadata": {},
   "source": [
    "# IMPROVED RANDOM FOREST REGRESSOR"
   ]
  },
  {
   "cell_type": "code",
   "execution_count": 76,
   "id": "3bab7995",
   "metadata": {},
   "outputs": [
    {
     "name": "stdout",
     "output_type": "stream",
     "text": [
      "0.7648495026363644\n",
      "0.7220481083107102\n",
      "Mean Squared error:  5.140247605362988\n"
     ]
    }
   ],
   "source": [
    "model = RandomForestRegressor(n_estimators=10, max_features=10, max_depth=20, min_samples_split=50,\n",
    "                              min_samples_leaf=2, random_state=0)\n",
    "randomForestImproved = model.fit(X_train,Y_train)\n",
    "\n",
    "#print(\"---------IMPROVED RANDOM FOREST------------\")\n",
    "print(randomForestImproved.score(X_train,Y_train))\n",
    "print(randomForestImproved.score(X_test,Y_test))\n",
    "\n",
    "randomForestImprovedPredict=model.predict(X_test)\n",
    "randomForestImproved_mse = mean_squared_error(Y_test, randomForestImprovedPredict)\n",
    "randomForestImprovedMSE = np.sqrt(randomForestImproved_mse)\n",
    "print(\"Mean Squared error: \",randomForestImprovedMSE)"
   ]
  },
  {
   "cell_type": "markdown",
   "id": "e2f05a4f",
   "metadata": {},
   "source": [
    "# Predicted values"
   ]
  },
  {
   "cell_type": "code",
   "execution_count": 77,
   "id": "a5c13773",
   "metadata": {},
   "outputs": [
    {
     "name": "stdout",
     "output_type": "stream",
     "text": [
      "Predicted output:  [9.96863723 4.81843927 7.23618701 ... 5.74017682 5.24359472 7.71469761]\n"
     ]
    }
   ],
   "source": [
    "randomForestImprovedPredict = randomForestImproved.predict(X_test)\n",
    "print(\"Predicted output: \",randomForestImprovedPredict)"
   ]
  },
  {
   "cell_type": "code",
   "execution_count": 78,
   "id": "b8cf3b64",
   "metadata": {},
   "outputs": [
    {
     "name": "stdout",
     "output_type": "stream",
     "text": [
      "0.7648495026363644\n"
     ]
    }
   ],
   "source": [
    "rf_score = model.score(X_train,Y_train)\n",
    "print(rf_score)"
   ]
  },
  {
   "cell_type": "code",
   "execution_count": 79,
   "id": "d6f6891a",
   "metadata": {},
   "outputs": [
    {
     "data": {
      "text/html": [
       "<div>\n",
       "<style scoped>\n",
       "    .dataframe tbody tr th:only-of-type {\n",
       "        vertical-align: middle;\n",
       "    }\n",
       "\n",
       "    .dataframe tbody tr th {\n",
       "        vertical-align: top;\n",
       "    }\n",
       "\n",
       "    .dataframe thead th {\n",
       "        text-align: right;\n",
       "    }\n",
       "</style>\n",
       "<table border=\"1\" class=\"dataframe\">\n",
       "  <thead>\n",
       "    <tr style=\"text-align: right;\">\n",
       "      <th></th>\n",
       "      <th>Models</th>\n",
       "      <th>Accuracy</th>\n",
       "    </tr>\n",
       "  </thead>\n",
       "  <tbody>\n",
       "    <tr>\n",
       "      <th>0</th>\n",
       "      <td>Support Vector Regression model</td>\n",
       "      <td>0.330354</td>\n",
       "    </tr>\n",
       "    <tr>\n",
       "      <th>0</th>\n",
       "      <td>Decision Tree Regression model</td>\n",
       "      <td>0.729902</td>\n",
       "    </tr>\n",
       "    <tr>\n",
       "      <th>0</th>\n",
       "      <td>Bagging model</td>\n",
       "      <td>0.475370</td>\n",
       "    </tr>\n",
       "    <tr>\n",
       "      <th>0</th>\n",
       "      <td>linear Regression Model</td>\n",
       "      <td>0.000540</td>\n",
       "    </tr>\n",
       "    <tr>\n",
       "      <th>0</th>\n",
       "      <td>Ada Boost model</td>\n",
       "      <td>0.662844</td>\n",
       "    </tr>\n",
       "    <tr>\n",
       "      <th>0</th>\n",
       "      <td>Gradient Boosting model</td>\n",
       "      <td>0.749767</td>\n",
       "    </tr>\n",
       "    <tr>\n",
       "      <th>0</th>\n",
       "      <td>Random Forest Regressor model</td>\n",
       "      <td>0.764850</td>\n",
       "    </tr>\n",
       "  </tbody>\n",
       "</table>\n",
       "</div>"
      ],
      "text/plain": [
       "                            Models  Accuracy\n",
       "0  Support Vector Regression model  0.330354\n",
       "0   Decision Tree Regression model  0.729902\n",
       "0                    Bagging model  0.475370\n",
       "0          linear Regression Model  0.000540\n",
       "0                  Ada Boost model  0.662844\n",
       "0          Gradient Boosting model  0.749767\n",
       "0    Random Forest Regressor model  0.764850"
      ]
     },
     "execution_count": 79,
     "metadata": {},
     "output_type": "execute_result"
    }
   ],
   "source": [
    "Data_model = pd.DataFrame({'Models': ['Random Forest Regressor model'], 'Accuracy':[rf_score]})\n",
    "Data = pd.concat( [Data,Data_model])\n",
    "Data = Data[['Models', 'Accuracy']]\n",
    "Data"
   ]
  },
  {
   "cell_type": "markdown",
   "id": "48b3a17b",
   "metadata": {},
   "source": [
    "#  Data"
   ]
  },
  {
   "cell_type": "code",
   "execution_count": 80,
   "id": "ae0721fd",
   "metadata": {},
   "outputs": [
    {
     "data": {
      "text/html": [
       "<div>\n",
       "<style scoped>\n",
       "    .dataframe tbody tr th:only-of-type {\n",
       "        vertical-align: middle;\n",
       "    }\n",
       "\n",
       "    .dataframe tbody tr th {\n",
       "        vertical-align: top;\n",
       "    }\n",
       "\n",
       "    .dataframe thead th {\n",
       "        text-align: right;\n",
       "    }\n",
       "</style>\n",
       "<table border=\"1\" class=\"dataframe\">\n",
       "  <thead>\n",
       "    <tr style=\"text-align: right;\">\n",
       "      <th></th>\n",
       "      <th>Models</th>\n",
       "      <th>Accuracy</th>\n",
       "    </tr>\n",
       "  </thead>\n",
       "  <tbody>\n",
       "    <tr>\n",
       "      <th>0</th>\n",
       "      <td>Support Vector Regression model</td>\n",
       "      <td>0.330354</td>\n",
       "    </tr>\n",
       "    <tr>\n",
       "      <th>0</th>\n",
       "      <td>Decision Tree Regression model</td>\n",
       "      <td>0.729902</td>\n",
       "    </tr>\n",
       "    <tr>\n",
       "      <th>0</th>\n",
       "      <td>Bagging model</td>\n",
       "      <td>0.475370</td>\n",
       "    </tr>\n",
       "    <tr>\n",
       "      <th>0</th>\n",
       "      <td>linear Regression Model</td>\n",
       "      <td>0.000540</td>\n",
       "    </tr>\n",
       "    <tr>\n",
       "      <th>0</th>\n",
       "      <td>Ada Boost model</td>\n",
       "      <td>0.662844</td>\n",
       "    </tr>\n",
       "    <tr>\n",
       "      <th>0</th>\n",
       "      <td>Gradient Boosting model</td>\n",
       "      <td>0.749767</td>\n",
       "    </tr>\n",
       "    <tr>\n",
       "      <th>0</th>\n",
       "      <td>Random Forest Regressor model</td>\n",
       "      <td>0.764850</td>\n",
       "    </tr>\n",
       "  </tbody>\n",
       "</table>\n",
       "</div>"
      ],
      "text/plain": [
       "                            Models  Accuracy\n",
       "0  Support Vector Regression model  0.330354\n",
       "0   Decision Tree Regression model  0.729902\n",
       "0                    Bagging model  0.475370\n",
       "0          linear Regression Model  0.000540\n",
       "0                  Ada Boost model  0.662844\n",
       "0          Gradient Boosting model  0.749767\n",
       "0    Random Forest Regressor model  0.764850"
      ]
     },
     "execution_count": 80,
     "metadata": {},
     "output_type": "execute_result"
    }
   ],
   "source": [
    "Data"
   ]
  }
 ],
 "metadata": {
  "kernelspec": {
   "display_name": "Python 3 (ipykernel)",
   "language": "python",
   "name": "python3"
  },
  "language_info": {
   "codemirror_mode": {
    "name": "ipython",
    "version": 3
   },
   "file_extension": ".py",
   "mimetype": "text/x-python",
   "name": "python",
   "nbconvert_exporter": "python",
   "pygments_lexer": "ipython3",
   "version": "3.11.3"
  }
 },
 "nbformat": 4,
 "nbformat_minor": 5
}
